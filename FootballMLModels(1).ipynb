{
  "nbformat": 4,
  "nbformat_minor": 0,
  "metadata": {
    "colab": {
      "name": " FootballMLModels(1).ipynb",
      "provenance": [],
      "collapsed_sections": [],
      "include_colab_link": true
    },
    "kernelspec": {
      "name": "python3",
      "display_name": "Python 3"
    },
    "language_info": {
      "name": "python"
    },
    "accelerator": "GPU"
  },
  "cells": [
    {
      "cell_type": "markdown",
      "metadata": {
        "id": "view-in-github",
        "colab_type": "text"
      },
      "source": [
        "<a href=\"https://colab.research.google.com/github/YB73/Football_Player_Prediction/blob/main/FootballMLModels(1).ipynb\" target=\"_parent\"><img src=\"https://colab.research.google.com/assets/colab-badge.svg\" alt=\"Open In Colab\"/></a>"
      ]
    },
    {
      "cell_type": "code",
      "metadata": {
        "colab": {
          "base_uri": "https://localhost:8080/"
        },
        "id": "d5KdsIzfDcP1",
        "outputId": "af152f99-556e-452d-a0fc-69015e4de0b6"
      },
      "source": [
        "from google.colab import drive\n",
        "drive.mount('/content/drive')"
      ],
      "execution_count": null,
      "outputs": [
        {
          "output_type": "stream",
          "name": "stdout",
          "text": [
            "Mounted at /content/drive\n"
          ]
        }
      ]
    },
    {
      "cell_type": "code",
      "metadata": {
        "id": "Ugw8j2LWD737"
      },
      "source": [
        "import numpy as np\n",
        "import copy\n",
        "import matplotlib.pyplot as plt\n",
        "from sklearn.preprocessing import MinMaxScaler\n",
        "from sklearn.ensemble import GradientBoostingRegressor\n",
        "from sklearn.model_selection import train_test_split, GridSearchCV\n",
        "from sklearn.linear_model import Ridge, Lasso, LinearRegression\n",
        "from sklearn.tree import DecisionTreeRegressor  \n",
        "from sklearn.model_selection import KFold, cross_val_score\n",
        "from sklearn.metrics import r2_score, accuracy_score, mean_squared_error\n",
        "from sklearn.neighbors import KNeighborsRegressor\n",
        "from sklearn.ensemble import RandomForestRegressor\n",
        "from sklearn.svm import SVR\n",
        "import seaborn as sns\n",
        "import warnings\n",
        "import pandas as pd\n",
        "%matplotlib inline\n",
        "warnings.filterwarnings('ignore')"
      ],
      "execution_count": null,
      "outputs": []
    },
    {
      "cell_type": "code",
      "metadata": {
        "id": "oQLsL8OqD7r5"
      },
      "source": [
        "plt.style.use('bmh')"
      ],
      "execution_count": null,
      "outputs": []
    },
    {
      "cell_type": "code",
      "metadata": {
        "colab": {
          "base_uri": "https://localhost:8080/",
          "height": 254
        },
        "id": "e_0ZPR9SDlaQ",
        "outputId": "166ba23e-00c3-4912-e391-8808af4b315b"
      },
      "source": [
        "data=pd.read_csv(\"/content/drive/MyDrive/Football.csv\")\n",
        "data.head()"
      ],
      "execution_count": null,
      "outputs": [
        {
          "output_type": "execute_result",
          "data": {
            "text/html": [
              "<div>\n",
              "<style scoped>\n",
              "    .dataframe tbody tr th:only-of-type {\n",
              "        vertical-align: middle;\n",
              "    }\n",
              "\n",
              "    .dataframe tbody tr th {\n",
              "        vertical-align: top;\n",
              "    }\n",
              "\n",
              "    .dataframe thead th {\n",
              "        text-align: right;\n",
              "    }\n",
              "</style>\n",
              "<table border=\"1\" class=\"dataframe\">\n",
              "  <thead>\n",
              "    <tr style=\"text-align: right;\">\n",
              "      <th></th>\n",
              "      <th>name</th>\n",
              "      <th>club</th>\n",
              "      <th>age</th>\n",
              "      <th>position</th>\n",
              "      <th>position_cat</th>\n",
              "      <th>market_value</th>\n",
              "      <th>page_views</th>\n",
              "      <th>fpl_value</th>\n",
              "      <th>fpl_sel</th>\n",
              "      <th>fpl_points</th>\n",
              "      <th>region</th>\n",
              "      <th>nationality</th>\n",
              "      <th>new_foreign</th>\n",
              "      <th>age_cat</th>\n",
              "      <th>club_id</th>\n",
              "      <th>big_club</th>\n",
              "      <th>new_signing</th>\n",
              "    </tr>\n",
              "  </thead>\n",
              "  <tbody>\n",
              "    <tr>\n",
              "      <th>0</th>\n",
              "      <td>Alexis Sanchez</td>\n",
              "      <td>Arsenal</td>\n",
              "      <td>28</td>\n",
              "      <td>LW</td>\n",
              "      <td>1</td>\n",
              "      <td>65.0</td>\n",
              "      <td>4329</td>\n",
              "      <td>12.0</td>\n",
              "      <td>17.10%</td>\n",
              "      <td>264</td>\n",
              "      <td>3.0</td>\n",
              "      <td>Chile</td>\n",
              "      <td>0</td>\n",
              "      <td>4</td>\n",
              "      <td>1</td>\n",
              "      <td>1</td>\n",
              "      <td>0</td>\n",
              "    </tr>\n",
              "    <tr>\n",
              "      <th>1</th>\n",
              "      <td>Mesut Ozil</td>\n",
              "      <td>Arsenal</td>\n",
              "      <td>28</td>\n",
              "      <td>AM</td>\n",
              "      <td>1</td>\n",
              "      <td>50.0</td>\n",
              "      <td>4395</td>\n",
              "      <td>9.5</td>\n",
              "      <td>5.60%</td>\n",
              "      <td>167</td>\n",
              "      <td>2.0</td>\n",
              "      <td>Germany</td>\n",
              "      <td>0</td>\n",
              "      <td>4</td>\n",
              "      <td>1</td>\n",
              "      <td>1</td>\n",
              "      <td>0</td>\n",
              "    </tr>\n",
              "    <tr>\n",
              "      <th>2</th>\n",
              "      <td>Petr Cech</td>\n",
              "      <td>Arsenal</td>\n",
              "      <td>35</td>\n",
              "      <td>GK</td>\n",
              "      <td>4</td>\n",
              "      <td>7.0</td>\n",
              "      <td>1529</td>\n",
              "      <td>5.5</td>\n",
              "      <td>5.90%</td>\n",
              "      <td>134</td>\n",
              "      <td>2.0</td>\n",
              "      <td>Czech Republic</td>\n",
              "      <td>0</td>\n",
              "      <td>6</td>\n",
              "      <td>1</td>\n",
              "      <td>1</td>\n",
              "      <td>0</td>\n",
              "    </tr>\n",
              "    <tr>\n",
              "      <th>3</th>\n",
              "      <td>Theo Walcott</td>\n",
              "      <td>Arsenal</td>\n",
              "      <td>28</td>\n",
              "      <td>RW</td>\n",
              "      <td>1</td>\n",
              "      <td>20.0</td>\n",
              "      <td>2393</td>\n",
              "      <td>7.5</td>\n",
              "      <td>1.50%</td>\n",
              "      <td>122</td>\n",
              "      <td>1.0</td>\n",
              "      <td>England</td>\n",
              "      <td>0</td>\n",
              "      <td>4</td>\n",
              "      <td>1</td>\n",
              "      <td>1</td>\n",
              "      <td>0</td>\n",
              "    </tr>\n",
              "    <tr>\n",
              "      <th>4</th>\n",
              "      <td>Laurent Koscielny</td>\n",
              "      <td>Arsenal</td>\n",
              "      <td>31</td>\n",
              "      <td>CB</td>\n",
              "      <td>3</td>\n",
              "      <td>22.0</td>\n",
              "      <td>912</td>\n",
              "      <td>6.0</td>\n",
              "      <td>0.70%</td>\n",
              "      <td>121</td>\n",
              "      <td>2.0</td>\n",
              "      <td>France</td>\n",
              "      <td>0</td>\n",
              "      <td>4</td>\n",
              "      <td>1</td>\n",
              "      <td>1</td>\n",
              "      <td>0</td>\n",
              "    </tr>\n",
              "  </tbody>\n",
              "</table>\n",
              "</div>"
            ],
            "text/plain": [
              "                name     club  age  ... club_id  big_club  new_signing\n",
              "0     Alexis Sanchez  Arsenal   28  ...       1         1            0\n",
              "1         Mesut Ozil  Arsenal   28  ...       1         1            0\n",
              "2          Petr Cech  Arsenal   35  ...       1         1            0\n",
              "3       Theo Walcott  Arsenal   28  ...       1         1            0\n",
              "4  Laurent Koscielny  Arsenal   31  ...       1         1            0\n",
              "\n",
              "[5 rows x 17 columns]"
            ]
          },
          "metadata": {},
          "execution_count": 7
        }
      ]
    },
    {
      "cell_type": "code",
      "metadata": {
        "colab": {
          "base_uri": "https://localhost:8080/"
        },
        "id": "m2wi6qXDFfzl",
        "outputId": "5b621514-f7ef-4dda-944f-bab081589fa9"
      },
      "source": [
        "data.isnull().sum()"
      ],
      "execution_count": null,
      "outputs": [
        {
          "output_type": "execute_result",
          "data": {
            "text/plain": [
              "name            0\n",
              "club            0\n",
              "age             0\n",
              "position        0\n",
              "position_cat    0\n",
              "market_value    0\n",
              "page_views      0\n",
              "fpl_value       0\n",
              "fpl_sel         0\n",
              "fpl_points      0\n",
              "region          1\n",
              "nationality     0\n",
              "new_foreign     0\n",
              "age_cat         0\n",
              "club_id         0\n",
              "big_club        0\n",
              "new_signing     0\n",
              "dtype: int64"
            ]
          },
          "metadata": {},
          "execution_count": 8
        }
      ]
    },
    {
      "cell_type": "code",
      "metadata": {
        "colab": {
          "base_uri": "https://localhost:8080/"
        },
        "id": "t-b2UXRiDleC",
        "outputId": "4e79061d-3c5f-4d31-b241-a38d5baaa401"
      },
      "source": [
        "data['region'].value_counts()[:].index.tolist()\n"
      ],
      "execution_count": null,
      "outputs": [
        {
          "output_type": "execute_result",
          "data": {
            "text/plain": [
              "[2.0, 1.0, 4.0, 3.0]"
            ]
          },
          "metadata": {},
          "execution_count": 9
        }
      ]
    },
    {
      "cell_type": "code",
      "metadata": {
        "colab": {
          "base_uri": "https://localhost:8080/"
        },
        "id": "tBzoQaRFDlga",
        "outputId": "ec22064c-298d-4fc6-e2a2-79663a016b0e"
      },
      "source": [
        "data['region'].mode()"
      ],
      "execution_count": null,
      "outputs": [
        {
          "output_type": "execute_result",
          "data": {
            "text/plain": [
              "0    2.0\n",
              "dtype: float64"
            ]
          },
          "metadata": {},
          "execution_count": 10
        }
      ]
    },
    {
      "cell_type": "code",
      "metadata": {
        "id": "aX764kU2Dlix"
      },
      "source": [
        "# replacing null values with mode\n",
        "data['region'] = data['region'].fillna(2.0)"
      ],
      "execution_count": null,
      "outputs": []
    },
    {
      "cell_type": "code",
      "metadata": {
        "colab": {
          "base_uri": "https://localhost:8080/",
          "height": 254
        },
        "id": "UIbXgNHEDlle",
        "outputId": "200bf374-1437-4f96-a888-2145356a385b"
      },
      "source": [
        "data.head()"
      ],
      "execution_count": null,
      "outputs": [
        {
          "output_type": "execute_result",
          "data": {
            "text/html": [
              "<div>\n",
              "<style scoped>\n",
              "    .dataframe tbody tr th:only-of-type {\n",
              "        vertical-align: middle;\n",
              "    }\n",
              "\n",
              "    .dataframe tbody tr th {\n",
              "        vertical-align: top;\n",
              "    }\n",
              "\n",
              "    .dataframe thead th {\n",
              "        text-align: right;\n",
              "    }\n",
              "</style>\n",
              "<table border=\"1\" class=\"dataframe\">\n",
              "  <thead>\n",
              "    <tr style=\"text-align: right;\">\n",
              "      <th></th>\n",
              "      <th>name</th>\n",
              "      <th>club</th>\n",
              "      <th>age</th>\n",
              "      <th>position</th>\n",
              "      <th>position_cat</th>\n",
              "      <th>market_value</th>\n",
              "      <th>page_views</th>\n",
              "      <th>fpl_value</th>\n",
              "      <th>fpl_sel</th>\n",
              "      <th>fpl_points</th>\n",
              "      <th>region</th>\n",
              "      <th>nationality</th>\n",
              "      <th>new_foreign</th>\n",
              "      <th>age_cat</th>\n",
              "      <th>club_id</th>\n",
              "      <th>big_club</th>\n",
              "      <th>new_signing</th>\n",
              "    </tr>\n",
              "  </thead>\n",
              "  <tbody>\n",
              "    <tr>\n",
              "      <th>0</th>\n",
              "      <td>Alexis Sanchez</td>\n",
              "      <td>Arsenal</td>\n",
              "      <td>28</td>\n",
              "      <td>LW</td>\n",
              "      <td>1</td>\n",
              "      <td>65.0</td>\n",
              "      <td>4329</td>\n",
              "      <td>12.0</td>\n",
              "      <td>17.10%</td>\n",
              "      <td>264</td>\n",
              "      <td>3.0</td>\n",
              "      <td>Chile</td>\n",
              "      <td>0</td>\n",
              "      <td>4</td>\n",
              "      <td>1</td>\n",
              "      <td>1</td>\n",
              "      <td>0</td>\n",
              "    </tr>\n",
              "    <tr>\n",
              "      <th>1</th>\n",
              "      <td>Mesut Ozil</td>\n",
              "      <td>Arsenal</td>\n",
              "      <td>28</td>\n",
              "      <td>AM</td>\n",
              "      <td>1</td>\n",
              "      <td>50.0</td>\n",
              "      <td>4395</td>\n",
              "      <td>9.5</td>\n",
              "      <td>5.60%</td>\n",
              "      <td>167</td>\n",
              "      <td>2.0</td>\n",
              "      <td>Germany</td>\n",
              "      <td>0</td>\n",
              "      <td>4</td>\n",
              "      <td>1</td>\n",
              "      <td>1</td>\n",
              "      <td>0</td>\n",
              "    </tr>\n",
              "    <tr>\n",
              "      <th>2</th>\n",
              "      <td>Petr Cech</td>\n",
              "      <td>Arsenal</td>\n",
              "      <td>35</td>\n",
              "      <td>GK</td>\n",
              "      <td>4</td>\n",
              "      <td>7.0</td>\n",
              "      <td>1529</td>\n",
              "      <td>5.5</td>\n",
              "      <td>5.90%</td>\n",
              "      <td>134</td>\n",
              "      <td>2.0</td>\n",
              "      <td>Czech Republic</td>\n",
              "      <td>0</td>\n",
              "      <td>6</td>\n",
              "      <td>1</td>\n",
              "      <td>1</td>\n",
              "      <td>0</td>\n",
              "    </tr>\n",
              "    <tr>\n",
              "      <th>3</th>\n",
              "      <td>Theo Walcott</td>\n",
              "      <td>Arsenal</td>\n",
              "      <td>28</td>\n",
              "      <td>RW</td>\n",
              "      <td>1</td>\n",
              "      <td>20.0</td>\n",
              "      <td>2393</td>\n",
              "      <td>7.5</td>\n",
              "      <td>1.50%</td>\n",
              "      <td>122</td>\n",
              "      <td>1.0</td>\n",
              "      <td>England</td>\n",
              "      <td>0</td>\n",
              "      <td>4</td>\n",
              "      <td>1</td>\n",
              "      <td>1</td>\n",
              "      <td>0</td>\n",
              "    </tr>\n",
              "    <tr>\n",
              "      <th>4</th>\n",
              "      <td>Laurent Koscielny</td>\n",
              "      <td>Arsenal</td>\n",
              "      <td>31</td>\n",
              "      <td>CB</td>\n",
              "      <td>3</td>\n",
              "      <td>22.0</td>\n",
              "      <td>912</td>\n",
              "      <td>6.0</td>\n",
              "      <td>0.70%</td>\n",
              "      <td>121</td>\n",
              "      <td>2.0</td>\n",
              "      <td>France</td>\n",
              "      <td>0</td>\n",
              "      <td>4</td>\n",
              "      <td>1</td>\n",
              "      <td>1</td>\n",
              "      <td>0</td>\n",
              "    </tr>\n",
              "  </tbody>\n",
              "</table>\n",
              "</div>"
            ],
            "text/plain": [
              "                name     club  age  ... club_id  big_club  new_signing\n",
              "0     Alexis Sanchez  Arsenal   28  ...       1         1            0\n",
              "1         Mesut Ozil  Arsenal   28  ...       1         1            0\n",
              "2          Petr Cech  Arsenal   35  ...       1         1            0\n",
              "3       Theo Walcott  Arsenal   28  ...       1         1            0\n",
              "4  Laurent Koscielny  Arsenal   31  ...       1         1            0\n",
              "\n",
              "[5 rows x 17 columns]"
            ]
          },
          "metadata": {},
          "execution_count": 12
        }
      ]
    },
    {
      "cell_type": "code",
      "metadata": {
        "colab": {
          "base_uri": "https://localhost:8080/"
        },
        "id": "DKtSHBMhDlo0",
        "outputId": "940922af-b18d-483b-f332-9bbbb8392ef0"
      },
      "source": [
        "data.isnull().sum()"
      ],
      "execution_count": null,
      "outputs": [
        {
          "output_type": "execute_result",
          "data": {
            "text/plain": [
              "name            0\n",
              "club            0\n",
              "age             0\n",
              "position        0\n",
              "position_cat    0\n",
              "market_value    0\n",
              "page_views      0\n",
              "fpl_value       0\n",
              "fpl_sel         0\n",
              "fpl_points      0\n",
              "region          0\n",
              "nationality     0\n",
              "new_foreign     0\n",
              "age_cat         0\n",
              "club_id         0\n",
              "big_club        0\n",
              "new_signing     0\n",
              "dtype: int64"
            ]
          },
          "metadata": {},
          "execution_count": 13
        }
      ]
    },
    {
      "cell_type": "code",
      "metadata": {
        "colab": {
          "base_uri": "https://localhost:8080/"
        },
        "id": "TZq_G_pUH2us",
        "outputId": "3b5e53ee-97c3-4b75-ed23-cb498d669df8"
      },
      "source": [
        "data.skew()"
      ],
      "execution_count": null,
      "outputs": [
        {
          "output_type": "execute_result",
          "data": {
            "text/plain": [
              "age             0.135533\n",
              "position_cat    0.182976\n",
              "market_value    2.162548\n",
              "page_views      3.244946\n",
              "fpl_value       2.136684\n",
              "fpl_points      0.825879\n",
              "region          0.850956\n",
              "new_foreign     5.100749\n",
              "age_cat         0.172058\n",
              "club_id         0.015017\n",
              "big_club        0.856601\n",
              "new_signing     2.019198\n",
              "dtype: float64"
            ]
          },
          "metadata": {},
          "execution_count": 14
        }
      ]
    },
    {
      "cell_type": "code",
      "metadata": {
        "id": "ezJ7Gat5Dlr4"
      },
      "source": [
        "class DataPreprocessing:\n",
        "    def __init__(self,data):\n",
        "        \n",
        "        self.data = data\n",
        "        self.cols_to_be_dropped = ['name','club_id','age_cat','nationality']\n",
        "        self.cols_to_be_encoded = ['club','position','position_cat','region']\n",
        "        \n",
        "    def addPosCat(self,inputCat):\n",
        "\n",
        "        if inputCat == 1:\n",
        "            return('Attackers')\n",
        "        elif inputCat == 2:\n",
        "            return('Midfielders')\n",
        "        elif inputCat == 3:\n",
        "            return('Defenders')\n",
        "        else:\n",
        "            return('Goalkeeper')\n",
        "        \n",
        "    def addRegion(self, inpregion):\n",
        "    \n",
        "        if inpregion == 1:\n",
        "            return('England')\n",
        "        elif inpregion == 2:\n",
        "            return('EU')\n",
        "        elif inpregion == 3:\n",
        "            return('Americans')\n",
        "        else:\n",
        "            return('Rest of World')\n",
        "        \n",
        "    def columnTypeConversion(self):\n",
        "        \n",
        "        # Converting fpl selection into numeric variable \n",
        "        self.data['fpl_sel'] = self.data['fpl_sel'].map(lambda x: str(x)[:-1]).astype('float')\n",
        "        \n",
        "    def logTransformation(self):\n",
        "        \n",
        "        # log transformation on page views variable as it has a high skew\n",
        "        self.data['page_views'] = self.data['page_views'].apply(np.log)\n",
        "        \n",
        "    # Encoding the categorical variables using pandas dummies \n",
        "    def dataEncoding(self):\n",
        "\n",
        "        self.data = pd.get_dummies(self.data, columns = self.cols_to_be_encoded, drop_first = True)\n",
        "        \n",
        "    def getProcessedData(self):\n",
        "        self.data = self.data.drop(self.cols_to_be_dropped, inplace = False, axis = 1)\n",
        "        self.data['position_cat'] = self.data['position_cat'].apply(self.addPosCat)\n",
        "        self.data['region'] = self.data['region'].apply(self.addRegion)\n",
        "        self.columnTypeConversion()\n",
        "        self.dataEncoding()\n",
        "        self.logTransformation()\n",
        "        return self.data"
      ],
      "execution_count": null,
      "outputs": []
    },
    {
      "cell_type": "code",
      "metadata": {
        "id": "bpvlm0hwDlvB"
      },
      "source": [
        "data_obj = DataPreprocessing(data) \n",
        "encoded_data = data_obj.getProcessedData()"
      ],
      "execution_count": null,
      "outputs": []
    },
    {
      "cell_type": "code",
      "metadata": {
        "colab": {
          "base_uri": "https://localhost:8080/",
          "height": 240
        },
        "id": "jG0Le6ekDlx8",
        "outputId": "68d3c420-a8a2-4cbd-955d-f9c63c3954c6"
      },
      "source": [
        "encoded_data.head()\n"
      ],
      "execution_count": null,
      "outputs": [
        {
          "output_type": "execute_result",
          "data": {
            "text/html": [
              "<div>\n",
              "<style scoped>\n",
              "    .dataframe tbody tr th:only-of-type {\n",
              "        vertical-align: middle;\n",
              "    }\n",
              "\n",
              "    .dataframe tbody tr th {\n",
              "        vertical-align: top;\n",
              "    }\n",
              "\n",
              "    .dataframe thead th {\n",
              "        text-align: right;\n",
              "    }\n",
              "</style>\n",
              "<table border=\"1\" class=\"dataframe\">\n",
              "  <thead>\n",
              "    <tr style=\"text-align: right;\">\n",
              "      <th></th>\n",
              "      <th>age</th>\n",
              "      <th>market_value</th>\n",
              "      <th>page_views</th>\n",
              "      <th>fpl_value</th>\n",
              "      <th>fpl_sel</th>\n",
              "      <th>fpl_points</th>\n",
              "      <th>new_foreign</th>\n",
              "      <th>big_club</th>\n",
              "      <th>new_signing</th>\n",
              "      <th>club_Bournemouth</th>\n",
              "      <th>club_Brighton+and+Hove</th>\n",
              "      <th>club_Burnley</th>\n",
              "      <th>club_Chelsea</th>\n",
              "      <th>club_Crystal+Palace</th>\n",
              "      <th>club_Everton</th>\n",
              "      <th>club_Huddersfield</th>\n",
              "      <th>club_Leicester+City</th>\n",
              "      <th>club_Liverpool</th>\n",
              "      <th>club_Manchester+City</th>\n",
              "      <th>club_Manchester+United</th>\n",
              "      <th>club_Newcastle+United</th>\n",
              "      <th>club_Southampton</th>\n",
              "      <th>club_Stoke+City</th>\n",
              "      <th>club_Swansea</th>\n",
              "      <th>club_Tottenham</th>\n",
              "      <th>club_Watford</th>\n",
              "      <th>club_West+Brom</th>\n",
              "      <th>club_West+Ham</th>\n",
              "      <th>position_CB</th>\n",
              "      <th>position_CF</th>\n",
              "      <th>position_CM</th>\n",
              "      <th>position_DM</th>\n",
              "      <th>position_GK</th>\n",
              "      <th>position_LB</th>\n",
              "      <th>position_LM</th>\n",
              "      <th>position_LW</th>\n",
              "      <th>position_RB</th>\n",
              "      <th>position_RM</th>\n",
              "      <th>position_RW</th>\n",
              "      <th>position_SS</th>\n",
              "      <th>position_cat_Defenders</th>\n",
              "      <th>position_cat_Goalkeeper</th>\n",
              "      <th>position_cat_Midfielders</th>\n",
              "      <th>region_EU</th>\n",
              "      <th>region_England</th>\n",
              "      <th>region_Rest of World</th>\n",
              "    </tr>\n",
              "  </thead>\n",
              "  <tbody>\n",
              "    <tr>\n",
              "      <th>0</th>\n",
              "      <td>28</td>\n",
              "      <td>65.0</td>\n",
              "      <td>8.373092</td>\n",
              "      <td>12.0</td>\n",
              "      <td>17.1</td>\n",
              "      <td>264</td>\n",
              "      <td>0</td>\n",
              "      <td>1</td>\n",
              "      <td>0</td>\n",
              "      <td>0</td>\n",
              "      <td>0</td>\n",
              "      <td>0</td>\n",
              "      <td>0</td>\n",
              "      <td>0</td>\n",
              "      <td>0</td>\n",
              "      <td>0</td>\n",
              "      <td>0</td>\n",
              "      <td>0</td>\n",
              "      <td>0</td>\n",
              "      <td>0</td>\n",
              "      <td>0</td>\n",
              "      <td>0</td>\n",
              "      <td>0</td>\n",
              "      <td>0</td>\n",
              "      <td>0</td>\n",
              "      <td>0</td>\n",
              "      <td>0</td>\n",
              "      <td>0</td>\n",
              "      <td>0</td>\n",
              "      <td>0</td>\n",
              "      <td>0</td>\n",
              "      <td>0</td>\n",
              "      <td>0</td>\n",
              "      <td>0</td>\n",
              "      <td>0</td>\n",
              "      <td>1</td>\n",
              "      <td>0</td>\n",
              "      <td>0</td>\n",
              "      <td>0</td>\n",
              "      <td>0</td>\n",
              "      <td>0</td>\n",
              "      <td>0</td>\n",
              "      <td>0</td>\n",
              "      <td>0</td>\n",
              "      <td>0</td>\n",
              "      <td>0</td>\n",
              "    </tr>\n",
              "    <tr>\n",
              "      <th>1</th>\n",
              "      <td>28</td>\n",
              "      <td>50.0</td>\n",
              "      <td>8.388223</td>\n",
              "      <td>9.5</td>\n",
              "      <td>5.6</td>\n",
              "      <td>167</td>\n",
              "      <td>0</td>\n",
              "      <td>1</td>\n",
              "      <td>0</td>\n",
              "      <td>0</td>\n",
              "      <td>0</td>\n",
              "      <td>0</td>\n",
              "      <td>0</td>\n",
              "      <td>0</td>\n",
              "      <td>0</td>\n",
              "      <td>0</td>\n",
              "      <td>0</td>\n",
              "      <td>0</td>\n",
              "      <td>0</td>\n",
              "      <td>0</td>\n",
              "      <td>0</td>\n",
              "      <td>0</td>\n",
              "      <td>0</td>\n",
              "      <td>0</td>\n",
              "      <td>0</td>\n",
              "      <td>0</td>\n",
              "      <td>0</td>\n",
              "      <td>0</td>\n",
              "      <td>0</td>\n",
              "      <td>0</td>\n",
              "      <td>0</td>\n",
              "      <td>0</td>\n",
              "      <td>0</td>\n",
              "      <td>0</td>\n",
              "      <td>0</td>\n",
              "      <td>0</td>\n",
              "      <td>0</td>\n",
              "      <td>0</td>\n",
              "      <td>0</td>\n",
              "      <td>0</td>\n",
              "      <td>0</td>\n",
              "      <td>0</td>\n",
              "      <td>0</td>\n",
              "      <td>1</td>\n",
              "      <td>0</td>\n",
              "      <td>0</td>\n",
              "    </tr>\n",
              "    <tr>\n",
              "      <th>2</th>\n",
              "      <td>35</td>\n",
              "      <td>7.0</td>\n",
              "      <td>7.332369</td>\n",
              "      <td>5.5</td>\n",
              "      <td>5.9</td>\n",
              "      <td>134</td>\n",
              "      <td>0</td>\n",
              "      <td>1</td>\n",
              "      <td>0</td>\n",
              "      <td>0</td>\n",
              "      <td>0</td>\n",
              "      <td>0</td>\n",
              "      <td>0</td>\n",
              "      <td>0</td>\n",
              "      <td>0</td>\n",
              "      <td>0</td>\n",
              "      <td>0</td>\n",
              "      <td>0</td>\n",
              "      <td>0</td>\n",
              "      <td>0</td>\n",
              "      <td>0</td>\n",
              "      <td>0</td>\n",
              "      <td>0</td>\n",
              "      <td>0</td>\n",
              "      <td>0</td>\n",
              "      <td>0</td>\n",
              "      <td>0</td>\n",
              "      <td>0</td>\n",
              "      <td>0</td>\n",
              "      <td>0</td>\n",
              "      <td>0</td>\n",
              "      <td>0</td>\n",
              "      <td>1</td>\n",
              "      <td>0</td>\n",
              "      <td>0</td>\n",
              "      <td>0</td>\n",
              "      <td>0</td>\n",
              "      <td>0</td>\n",
              "      <td>0</td>\n",
              "      <td>0</td>\n",
              "      <td>0</td>\n",
              "      <td>1</td>\n",
              "      <td>0</td>\n",
              "      <td>1</td>\n",
              "      <td>0</td>\n",
              "      <td>0</td>\n",
              "    </tr>\n",
              "    <tr>\n",
              "      <th>3</th>\n",
              "      <td>28</td>\n",
              "      <td>20.0</td>\n",
              "      <td>7.780303</td>\n",
              "      <td>7.5</td>\n",
              "      <td>1.5</td>\n",
              "      <td>122</td>\n",
              "      <td>0</td>\n",
              "      <td>1</td>\n",
              "      <td>0</td>\n",
              "      <td>0</td>\n",
              "      <td>0</td>\n",
              "      <td>0</td>\n",
              "      <td>0</td>\n",
              "      <td>0</td>\n",
              "      <td>0</td>\n",
              "      <td>0</td>\n",
              "      <td>0</td>\n",
              "      <td>0</td>\n",
              "      <td>0</td>\n",
              "      <td>0</td>\n",
              "      <td>0</td>\n",
              "      <td>0</td>\n",
              "      <td>0</td>\n",
              "      <td>0</td>\n",
              "      <td>0</td>\n",
              "      <td>0</td>\n",
              "      <td>0</td>\n",
              "      <td>0</td>\n",
              "      <td>0</td>\n",
              "      <td>0</td>\n",
              "      <td>0</td>\n",
              "      <td>0</td>\n",
              "      <td>0</td>\n",
              "      <td>0</td>\n",
              "      <td>0</td>\n",
              "      <td>0</td>\n",
              "      <td>0</td>\n",
              "      <td>0</td>\n",
              "      <td>1</td>\n",
              "      <td>0</td>\n",
              "      <td>0</td>\n",
              "      <td>0</td>\n",
              "      <td>0</td>\n",
              "      <td>0</td>\n",
              "      <td>1</td>\n",
              "      <td>0</td>\n",
              "    </tr>\n",
              "    <tr>\n",
              "      <th>4</th>\n",
              "      <td>31</td>\n",
              "      <td>22.0</td>\n",
              "      <td>6.815640</td>\n",
              "      <td>6.0</td>\n",
              "      <td>0.7</td>\n",
              "      <td>121</td>\n",
              "      <td>0</td>\n",
              "      <td>1</td>\n",
              "      <td>0</td>\n",
              "      <td>0</td>\n",
              "      <td>0</td>\n",
              "      <td>0</td>\n",
              "      <td>0</td>\n",
              "      <td>0</td>\n",
              "      <td>0</td>\n",
              "      <td>0</td>\n",
              "      <td>0</td>\n",
              "      <td>0</td>\n",
              "      <td>0</td>\n",
              "      <td>0</td>\n",
              "      <td>0</td>\n",
              "      <td>0</td>\n",
              "      <td>0</td>\n",
              "      <td>0</td>\n",
              "      <td>0</td>\n",
              "      <td>0</td>\n",
              "      <td>0</td>\n",
              "      <td>0</td>\n",
              "      <td>1</td>\n",
              "      <td>0</td>\n",
              "      <td>0</td>\n",
              "      <td>0</td>\n",
              "      <td>0</td>\n",
              "      <td>0</td>\n",
              "      <td>0</td>\n",
              "      <td>0</td>\n",
              "      <td>0</td>\n",
              "      <td>0</td>\n",
              "      <td>0</td>\n",
              "      <td>0</td>\n",
              "      <td>1</td>\n",
              "      <td>0</td>\n",
              "      <td>0</td>\n",
              "      <td>1</td>\n",
              "      <td>0</td>\n",
              "      <td>0</td>\n",
              "    </tr>\n",
              "  </tbody>\n",
              "</table>\n",
              "</div>"
            ],
            "text/plain": [
              "   age  market_value  ...  region_England  region_Rest of World\n",
              "0   28          65.0  ...               0                     0\n",
              "1   28          50.0  ...               0                     0\n",
              "2   35           7.0  ...               0                     0\n",
              "3   28          20.0  ...               1                     0\n",
              "4   31          22.0  ...               0                     0\n",
              "\n",
              "[5 rows x 46 columns]"
            ]
          },
          "metadata": {},
          "execution_count": 17
        }
      ]
    },
    {
      "cell_type": "code",
      "metadata": {
        "id": "oExrMI8_Dnnp"
      },
      "source": [
        "output_var = 'market_value'\n",
        "X = encoded_data[encoded_data.columns[~encoded_data.columns.isin([output_var])]]\n",
        "y = encoded_data[[output_var]]\n",
        "x_train, x_test, y_train, y_test = train_test_split(X, y, test_size = 0.20)\n",
        "x_train = x_train.reset_index(drop = True)\n",
        "x_test = x_test.reset_index(drop = True)\n",
        "y_train = y_train.reset_index(drop = True)\n",
        "y_test = y_test.reset_index(drop = True)"
      ],
      "execution_count": null,
      "outputs": []
    },
    {
      "cell_type": "code",
      "metadata": {
        "colab": {
          "base_uri": "https://localhost:8080/"
        },
        "id": "XqAlI8qADn1F",
        "outputId": "d01c9f80-0ab8-45e6-a66d-18c7bcd34099"
      },
      "source": [
        "print(x_train.shape)\n",
        "print(x_test.shape)\n",
        "print(y_train.shape)\n",
        "print(y_test.shape)"
      ],
      "execution_count": null,
      "outputs": [
        {
          "output_type": "stream",
          "name": "stdout",
          "text": [
            "(368, 45)\n",
            "(93, 45)\n",
            "(368, 1)\n",
            "(93, 1)\n"
          ]
        }
      ]
    },
    {
      "cell_type": "code",
      "metadata": {
        "id": "Vw6nlM4gDosO"
      },
      "source": [
        "# min max scaling on input data\n",
        "scaler = MinMaxScaler()\n",
        "x_train = scaler.fit_transform(x_train)\n",
        "x_test = scaler.transform(x_test)"
      ],
      "execution_count": null,
      "outputs": []
    },
    {
      "cell_type": "code",
      "metadata": {
        "colab": {
          "base_uri": "https://localhost:8080/"
        },
        "id": "fufO6ALYDpBq",
        "outputId": "c0348952-4379-4d09-f22b-2e6b1ce5e005"
      },
      "source": [
        "# Model 1 - Linear regression\n",
        "lin_model = LinearRegression()\n",
        "lin_model.fit(x_train, y_train)\n",
        "\n",
        "acc_train = lin_model.score(x_train, y_train)\n",
        "print(\"R^2 score of training data - \" + str(acc_train))\n",
        "\n",
        "train_pred = lin_model.predict(x_train) \n",
        "mse_train = mean_squared_error(y_train,train_pred)\n",
        "print(\"Root Mean Square Error on training data - \" + str(mse_train**(0.5)))\n"
      ],
      "execution_count": null,
      "outputs": [
        {
          "output_type": "stream",
          "name": "stdout",
          "text": [
            "R^2 score of training data - 0.814830133908506\n",
            "Root Mean Square Error on training data - 5.266451210853647\n"
          ]
        }
      ]
    },
    {
      "cell_type": "code",
      "metadata": {
        "id": "NpQwflv0DqdF"
      },
      "source": [
        "def KFoldVerify(model, X, Y): # to calculte cross validated scros\n",
        "    cv = KFold(n_splits=5, random_state=1, shuffle=True)\n",
        "    r2_scores = cross_val_score(model, X, Y, cv= cv, scoring = 'r2')\n",
        "    return r2_scores.mean()"
      ],
      "execution_count": null,
      "outputs": []
    },
    {
      "cell_type": "code",
      "metadata": {
        "colab": {
          "base_uri": "https://localhost:8080/"
        },
        "id": "CA1ZCExaDqrU",
        "outputId": "aec43f3d-5b5a-4402-af61-b9e75b100e14"
      },
      "source": [
        "# Lasso Regressor\n",
        "lasso_model = Lasso(alpha=0.1, max_iter = 10000)\n",
        "cross_acc_train = KFoldVerify(lasso_model, x_train, y_train)\n",
        "lasso_model.fit(x_train, y_train)\n",
        "\n",
        "acc_train = lasso_model.score(x_train, y_train)\n",
        "print(\"Cross Validation score - \" + str(cross_acc_train))\n",
        "print()\n",
        "\n",
        "\n",
        "train_pred = lasso_model.predict(x_train)\n",
        "mse_train = mean_squared_error(y_train,train_pred)\n",
        "print(\"R^2 score of training data - \" + str(acc_train))\n",
        "print(\"Root Mean Square Error of training data - \" + str(mse_train**(0.5)))"
      ],
      "execution_count": null,
      "outputs": [
        {
          "output_type": "stream",
          "name": "stdout",
          "text": [
            "Cross Validation score - 0.7359163156474716\n",
            "\n",
            "R^2 score of training data - 0.7806060507987487\n",
            "Root Mean Square Error of training data - 5.732515422233922\n"
          ]
        }
      ]
    },
    {
      "cell_type": "code",
      "metadata": {
        "colab": {
          "base_uri": "https://localhost:8080/"
        },
        "id": "-eRp5PnLNRiW",
        "outputId": "1ba31e0c-78ed-4bd2-e027-f2953c6b1a05"
      },
      "source": [
        "# Ridge Regressor\n",
        "ridge_model = Ridge(alpha=0.1,max_iter=10000)\n",
        "cross_acc_train = KFoldVerify(ridge_model, x_train, y_train)\n",
        "ridge_model.fit(x_train, y_train)\n",
        "\n",
        "acc_train = ridge_model.score(x_train, y_train)\n",
        "print(\"Cross Validation score - \" + str(cross_acc_train))\n",
        "print()\n",
        "\n",
        "\n",
        "train_pred = ridge_model.predict(x_train)\n",
        "mse_train = mean_squared_error(y_train,train_pred)\n",
        "print(\"R^2 score of training data - \" + str(acc_train))\n",
        "print(\"Root Mean Square Error of training data - \" + str(mse_train**(0.5)))"
      ],
      "execution_count": null,
      "outputs": [
        {
          "output_type": "stream",
          "name": "stdout",
          "text": [
            "Cross Validation score - 0.7460964179639564\n",
            "\n",
            "R^2 score of training data - 0.8146402275054694\n",
            "Root Mean Square Error of training data - 5.269151100770489\n"
          ]
        }
      ]
    },
    {
      "cell_type": "code",
      "metadata": {
        "colab": {
          "base_uri": "https://localhost:8080/"
        },
        "id": "gvuMFFjPNWje",
        "outputId": "62c9024a-2ab1-4838-f8ed-2bba5702f9ac"
      },
      "source": [
        "# support vector regressor\n",
        "SVR_regr = SVR(C = 10000.0, epsilon=0.001, kernel='poly', degree=3)\n",
        "cross_acc_train = KFoldVerify(SVR_regr, x_train, y_train)\n",
        "SVR_regr.fit(x_train, y_train)\n",
        "\n",
        "acc_train = SVR_regr.score(x_train, y_train)\n",
        "print(\"Cross Validation score - \" + str(cross_acc_train))\n",
        "print()\n",
        "\n",
        "\n",
        "train_pred = SVR_regr.predict(x_train)\n",
        "mse_train = mean_squared_error(y_train,train_pred)\n",
        "print(\"R^2 score of training data - \" + str(acc_train))\n",
        "print(\"Root Mean Square Error of training data - \" + str(mse_train**(0.5)))"
      ],
      "execution_count": null,
      "outputs": [
        {
          "output_type": "stream",
          "name": "stdout",
          "text": [
            "Cross Validation score - 0.545933827784743\n",
            "\n",
            "R^2 score of training data - 0.9999999922680117\n",
            "Root Mean Square Error of training data - 0.0010761641024528922\n"
          ]
        }
      ]
    },
    {
      "cell_type": "code",
      "metadata": {
        "colab": {
          "base_uri": "https://localhost:8080/"
        },
        "id": "YnMoOg63Nb7O",
        "outputId": "91897163-a89d-40b6-c047-b32256ae1994"
      },
      "source": [
        "# nearest neighbour regressor\n",
        "K_N_N = KNeighborsRegressor(n_neighbors=10, metric='minkowski')\n",
        "cross_acc_train = KFoldVerify(K_N_N, x_train, y_train)\n",
        "K_N_N.fit(x_train, y_train)\n",
        "\n",
        "acc_train = K_N_N.score(x_train, y_train)\n",
        "print(\"Cross Validation score - \" + str(cross_acc_train))\n",
        "print()\n",
        "\n",
        "\n",
        "train_pred = K_N_N.predict(x_train)\n",
        "mse_train = mean_squared_error(y_train,train_pred)\n",
        "print(\"R^2 score of training data - \" + str(acc_train))\n",
        "print(\"Root Mean Square Error of training data - \" + str(mse_train**(0.5)))"
      ],
      "execution_count": null,
      "outputs": [
        {
          "output_type": "stream",
          "name": "stdout",
          "text": [
            "Cross Validation score - 0.4962030109429455\n",
            "\n",
            "R^2 score of training data - 0.6182027635314457\n",
            "Root Mean Square Error of training data - 7.56221985197957\n"
          ]
        }
      ]
    },
    {
      "cell_type": "code",
      "metadata": {
        "id": "dUu6ec3ENhae",
        "colab": {
          "base_uri": "https://localhost:8080/"
        },
        "outputId": "36689045-ce5b-4bfc-a357-69564722d1fc"
      },
      "source": [
        "\n",
        "\n",
        "# Decision Tree regressor\n",
        "tree_model = DecisionTreeRegressor(random_state = 0,max_depth=5)  \n",
        "cross_acc_train = KFoldVerify(tree_model, x_train, y_train)\n",
        "tree_model.fit(x_train, y_train)\n",
        "\n",
        "acc_train = tree_model.score(x_train, y_train)\n",
        "print(\"Cross Validation score - \" + str(cross_acc_train))\n",
        "print()\n",
        "\n",
        "\n",
        "train_pred = tree_model.predict(x_train)\n",
        "mse_train = mean_squared_error(y_train,train_pred)\n",
        "print(\"R^2 score of training data - \" + str(acc_train))\n",
        "print(\"Root Mean Square Error of training data - \" + str(mse_train**(0.5)))"
      ],
      "execution_count": null,
      "outputs": [
        {
          "output_type": "stream",
          "name": "stdout",
          "text": [
            "Cross Validation score - 0.5583514617301549\n",
            "\n",
            "R^2 score of training data - 0.8664581197052755\n",
            "Root Mean Square Error of training data - 4.472410437795188\n"
          ]
        }
      ]
    },
    {
      "cell_type": "code",
      "metadata": {
        "colab": {
          "base_uri": "https://localhost:8080/"
        },
        "id": "OK5v83u1xJn1",
        "outputId": "d07299be-e73c-47d9-a02f-262f2e02e8db"
      },
      "source": [
        "# fitting a random forest regressor\n",
        "Forest_regr = RandomForestRegressor(max_depth=5, random_state=0)\n",
        "cross_acc_train = KFoldVerify(Forest_regr, x_train, y_train)\n",
        "Forest_regr.fit(x_train, y_train)\n",
        "\n",
        "acc_train = Forest_regr.score(x_train, y_train)\n",
        "print(\"Cross Validation score - \" + str(cross_acc_train))\n",
        "print()\n",
        "\n",
        "\n",
        "train_pred = Forest_regr.predict(x_train)\n",
        "mse_train = mean_squared_error(y_train,train_pred)\n",
        "print(\"R^2 score of training data - \" + str(acc_train))\n",
        "print(\"Root Mean Square Error of training data - \" + str(mse_train**(0.5)))"
      ],
      "execution_count": null,
      "outputs": [
        {
          "output_type": "stream",
          "name": "stdout",
          "text": [
            "Cross Validation score - 0.7473329373935097\n",
            "\n",
            "R^2 score of training data - 0.9070702344004276\n",
            "Root Mean Square Error of training data - 3.7308718316498406\n"
          ]
        }
      ]
    },
    {
      "cell_type": "code",
      "metadata": {
        "colab": {
          "base_uri": "https://localhost:8080/"
        },
        "id": "n1RjU_skxODD",
        "outputId": "9962ee12-0dfa-424e-b647-ef63ff38498b"
      },
      "source": [
        "#  gradient boosting regression\n",
        "params = {'n_estimators': 300,\n",
        "          'max_depth': 2,\n",
        "          'min_samples_split': 9,\n",
        "          'learning_rate': 0.1,\n",
        "          'loss': 'ls'}\n",
        "gbr_model = GradientBoostingRegressor(**params)\n",
        "cross_acc_train = KFoldVerify(gbr_model, x_train, y_train)\n",
        "gbr_model.fit(x_train, y_train)\n",
        "\n",
        "acc_train = gbr_model.score(x_train, y_train)\n",
        "print(\"Cross Validation score - \" + str(cross_acc_train))\n",
        "print()\n",
        "\n",
        "\n",
        "train_pred = gbr_model.predict(x_train)\n",
        "mse_train = mean_squared_error(y_train,train_pred)\n",
        "print(\"R^2 score of training data - \" + str(acc_train))\n",
        "print(\"Root Mean Square Error of training data - \" + str(mse_train**(0.5)))"
      ],
      "execution_count": null,
      "outputs": [
        {
          "output_type": "stream",
          "name": "stdout",
          "text": [
            "Cross Validation score - 0.8108321223996636\n",
            "\n",
            "R^2 score of training data - 0.9687399771012036\n",
            "Root Mean Square Error of training data - 2.1638520080838846\n"
          ]
        }
      ]
    },
    {
      "cell_type": "code",
      "metadata": {
        "id": "-ah8hLHpxSrU",
        "colab": {
          "base_uri": "https://localhost:8080/"
        },
        "outputId": "22052a5c-fb2f-4ba0-c7d4-a1c5a9414fb1"
      },
      "source": [
        "pip install Flask"
      ],
      "execution_count": null,
      "outputs": [
        {
          "output_type": "stream",
          "name": "stdout",
          "text": [
            "Requirement already satisfied: Flask in /usr/local/lib/python3.7/dist-packages (1.1.4)\n",
            "Requirement already satisfied: click<8.0,>=5.1 in /usr/local/lib/python3.7/dist-packages (from Flask) (7.1.2)\n",
            "Requirement already satisfied: Werkzeug<2.0,>=0.15 in /usr/local/lib/python3.7/dist-packages (from Flask) (1.0.1)\n",
            "Requirement already satisfied: itsdangerous<2.0,>=0.24 in /usr/local/lib/python3.7/dist-packages (from Flask) (1.1.0)\n",
            "Requirement already satisfied: Jinja2<3.0,>=2.10.1 in /usr/local/lib/python3.7/dist-packages (from Flask) (2.11.3)\n",
            "Requirement already satisfied: MarkupSafe>=0.23 in /usr/local/lib/python3.7/dist-packages (from Jinja2<3.0,>=2.10.1->Flask) (2.0.1)\n"
          ]
        }
      ]
    },
    {
      "cell_type": "code",
      "metadata": {
        "colab": {
          "base_uri": "https://localhost:8080/"
        },
        "id": "o1HYlP5l9i8E",
        "outputId": "c44629b4-2eaa-4fe9-ee26-cc8fbcd0fcce"
      },
      "source": [
        "pip install flask_ngrok"
      ],
      "execution_count": null,
      "outputs": [
        {
          "output_type": "stream",
          "name": "stdout",
          "text": [
            "Collecting flask_ngrok\n",
            "  Downloading flask_ngrok-0.0.25-py3-none-any.whl (3.1 kB)\n",
            "Requirement already satisfied: requests in /usr/local/lib/python3.7/dist-packages (from flask_ngrok) (2.23.0)\n",
            "Requirement already satisfied: Flask>=0.8 in /usr/local/lib/python3.7/dist-packages (from flask_ngrok) (1.1.4)\n",
            "Requirement already satisfied: Werkzeug<2.0,>=0.15 in /usr/local/lib/python3.7/dist-packages (from Flask>=0.8->flask_ngrok) (1.0.1)\n",
            "Requirement already satisfied: itsdangerous<2.0,>=0.24 in /usr/local/lib/python3.7/dist-packages (from Flask>=0.8->flask_ngrok) (1.1.0)\n",
            "Requirement already satisfied: Jinja2<3.0,>=2.10.1 in /usr/local/lib/python3.7/dist-packages (from Flask>=0.8->flask_ngrok) (2.11.3)\n",
            "Requirement already satisfied: click<8.0,>=5.1 in /usr/local/lib/python3.7/dist-packages (from Flask>=0.8->flask_ngrok) (7.1.2)\n",
            "Requirement already satisfied: MarkupSafe>=0.23 in /usr/local/lib/python3.7/dist-packages (from Jinja2<3.0,>=2.10.1->Flask>=0.8->flask_ngrok) (2.0.1)\n",
            "Requirement already satisfied: urllib3!=1.25.0,!=1.25.1,<1.26,>=1.21.1 in /usr/local/lib/python3.7/dist-packages (from requests->flask_ngrok) (1.24.3)\n",
            "Requirement already satisfied: certifi>=2017.4.17 in /usr/local/lib/python3.7/dist-packages (from requests->flask_ngrok) (2021.5.30)\n",
            "Requirement already satisfied: chardet<4,>=3.0.2 in /usr/local/lib/python3.7/dist-packages (from requests->flask_ngrok) (3.0.4)\n",
            "Requirement already satisfied: idna<3,>=2.5 in /usr/local/lib/python3.7/dist-packages (from requests->flask_ngrok) (2.10)\n",
            "Installing collected packages: flask-ngrok\n",
            "Successfully installed flask-ngrok-0.0.25\n"
          ]
        }
      ]
    },
    {
      "cell_type": "code",
      "metadata": {
        "id": "WvQgT0uv9pgC"
      },
      "source": [
        "from flask_ngrok import run_with_ngrok\n",
        "from flask import Flask"
      ],
      "execution_count": null,
      "outputs": []
    },
    {
      "cell_type": "code",
      "metadata": {
        "colab": {
          "base_uri": "https://localhost:8080/"
        },
        "id": "zwfmAK8I9rtI",
        "outputId": "069934d5-f54c-4cb3-a5bb-dee8816d4810"
      },
      "source": [
        "from flask import Flask, render_template, request, Response\n",
        "app =Flask(__name__ , template_folder = '/content/drive')\n",
        "\n",
        "df = pd.read_csv('/content/drive/MyDrive/Football.csv')\n",
        "\n",
        "df1=df\n",
        "df1.drop([\"name\",\"club\",\"position\",\"nationality\",\"fpl_sel\"],axis='columns',inplace=True)\n",
        "\n",
        "x=df1[df1.columns[~df1.columns.isin([\"market_value\"])]].to_numpy()\n",
        "y=df1.market_value.to_numpy()\n",
        "x_train, x_test, y_train, y_test = train_test_split(x,y,test_size = 0.20)\n",
        "\n",
        "run_with_ngrok(app)\n",
        "\n",
        "@app.route(\"/\" , methods=['GET','POST'])\n",
        "def index():\n",
        "    return render_template('assignment.html')\n",
        "@app.route(\"/data\", methods=['GET','POST'])\n",
        "def data():     \n",
        "    if request.method == \"POST\":\n",
        "         opt= request.form['excellent']\n",
        "         m = int(opt)*1\n",
        "         a= request.form['age']\n",
        "         b= request.form['position_cat']\n",
        "         c= request.form['page_views']\n",
        "         d= request.form['fpl_value']\n",
        "         e= request.form['fpl_points']\n",
        "         f= request.form['region']\n",
        "         g= request.form['new_foreign']\n",
        "         h= request.form['age_cat']\n",
        "         i= request.form['club_id']\n",
        "         j= request.form['big_club']\n",
        "         k= request.form['new_signing']\n",
        "         li=[a,b,c,d,e,f,g,h,i,j,k]\n",
        "         model=SVR()\n",
        "         model.fit(x_train,y_train)\n",
        "         y_pred_svr=model.predict(x_test)\n",
        "         market_value=model.predict([li])\n",
        "    return render_template('data.html',market_value=market_value )\n",
        "\n",
        "if __name__ == \"__main__\":\n",
        "    app.run()"
      ],
      "execution_count": null,
      "outputs": [
        {
          "output_type": "stream",
          "name": "stdout",
          "text": [
            " * Serving Flask app \"__main__\" (lazy loading)\n",
            " * Environment: production\n",
            "\u001b[31m   WARNING: This is a development server. Do not use it in a production deployment.\u001b[0m\n",
            "\u001b[2m   Use a production WSGI server instead.\u001b[0m\n",
            " * Debug mode: off\n"
          ]
        },
        {
          "output_type": "stream",
          "name": "stderr",
          "text": [
            " * Running on http://127.0.0.1:5000/ (Press CTRL+C to quit)\n"
          ]
        },
        {
          "output_type": "stream",
          "name": "stdout",
          "text": [
            " * Running on http://ab20-34-80-214-255.ngrok.io\n",
            " * Traffic stats available on http://127.0.0.1:4040\n"
          ]
        },
        {
          "output_type": "stream",
          "name": "stderr",
          "text": [
            "[2021-10-26 16:34:37,777] ERROR in app: Exception on / [GET]\n",
            "Traceback (most recent call last):\n",
            "  File \"/usr/local/lib/python3.7/dist-packages/flask/app.py\", line 2447, in wsgi_app\n",
            "    response = self.full_dispatch_request()\n",
            "  File \"/usr/local/lib/python3.7/dist-packages/flask/app.py\", line 1952, in full_dispatch_request\n",
            "    rv = self.handle_user_exception(e)\n",
            "  File \"/usr/local/lib/python3.7/dist-packages/flask/app.py\", line 1821, in handle_user_exception\n",
            "    reraise(exc_type, exc_value, tb)\n",
            "  File \"/usr/local/lib/python3.7/dist-packages/flask/_compat.py\", line 39, in reraise\n",
            "    raise value\n",
            "  File \"/usr/local/lib/python3.7/dist-packages/flask/app.py\", line 1950, in full_dispatch_request\n",
            "    rv = self.dispatch_request()\n",
            "  File \"/usr/local/lib/python3.7/dist-packages/flask/app.py\", line 1936, in dispatch_request\n",
            "    return self.view_functions[rule.endpoint](**req.view_args)\n",
            "  File \"<ipython-input-33-4372622279a4>\", line 17, in index\n",
            "    return render_template('assignment.html')\n",
            "  File \"/usr/local/lib/python3.7/dist-packages/flask/templating.py\", line 138, in render_template\n",
            "    ctx.app.jinja_env.get_or_select_template(template_name_or_list),\n",
            "  File \"/usr/local/lib/python3.7/dist-packages/jinja2/environment.py\", line 930, in get_or_select_template\n",
            "    return self.get_template(template_name_or_list, parent, globals)\n",
            "  File \"/usr/local/lib/python3.7/dist-packages/jinja2/environment.py\", line 883, in get_template\n",
            "    return self._load_template(name, self.make_globals(globals))\n",
            "  File \"/usr/local/lib/python3.7/dist-packages/jinja2/environment.py\", line 857, in _load_template\n",
            "    template = self.loader.load(self, name, globals)\n",
            "  File \"/usr/local/lib/python3.7/dist-packages/jinja2/loaders.py\", line 115, in load\n",
            "    source, filename, uptodate = self.get_source(environment, name)\n",
            "  File \"/usr/local/lib/python3.7/dist-packages/flask/templating.py\", line 60, in get_source\n",
            "    return self._get_source_fast(environment, template)\n",
            "  File \"/usr/local/lib/python3.7/dist-packages/flask/templating.py\", line 89, in _get_source_fast\n",
            "    raise TemplateNotFound(template)\n",
            "jinja2.exceptions.TemplateNotFound: assignment.html\n",
            "127.0.0.1 - - [26/Oct/2021 16:34:37] \"\u001b[35m\u001b[1mGET / HTTP/1.1\u001b[0m\" 500 -\n",
            "127.0.0.1 - - [26/Oct/2021 16:34:38] \"\u001b[33mGET /favicon.ico HTTP/1.1\u001b[0m\" 404 -\n"
          ]
        }
      ]
    },
    {
      "cell_type": "code",
      "metadata": {
        "id": "5zMgtKoHc9d1"
      },
      "source": [
        ""
      ],
      "execution_count": null,
      "outputs": []
    }
  ]
}