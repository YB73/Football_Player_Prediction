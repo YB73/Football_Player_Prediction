{
  "nbformat": 4,
  "nbformat_minor": 0,
  "metadata": {
    "colab": {
      "name": "FootballMLModels.ipynb",
      "provenance": [],
      "collapsed_sections": [],
      "include_colab_link": true
    },
    "kernelspec": {
      "name": "python3",
      "display_name": "Python 3"
    },
    "language_info": {
      "name": "python"
    },
    "accelerator": "GPU"
  },
  "cells": [
    {
      "cell_type": "markdown",
      "metadata": {
        "id": "view-in-github",
        "colab_type": "text"
      },
      "source": [
        "<a href=\"https://colab.research.google.com/github/YB73/Football_Player_Prediction/blob/main/FootballMLModels.ipynb\" target=\"_parent\"><img src=\"https://colab.research.google.com/assets/colab-badge.svg\" alt=\"Open In Colab\"/></a>"
      ]
    },
    {
      "cell_type": "markdown",
      "metadata": {
        "id": "GjgYkDKBxgHG"
      },
      "source": [
        "ML models on football dataset\n",
        "\n",
        "> Group Members- Namandeep Singh, Yuvanna Bawa, Prakhar\n",
        "\n",
        "\n",
        "\n"
      ]
    },
    {
      "cell_type": "code",
      "metadata": {
        "colab": {
          "base_uri": "https://localhost:8080/"
        },
        "id": "d5KdsIzfDcP1",
        "outputId": "a962bce9-c0ab-4b3d-a0aa-897330d988e9"
      },
      "source": [
        "from google.colab import drive\n",
        "drive.mount('/content/drive')"
      ],
      "execution_count": null,
      "outputs": [
        {
          "output_type": "stream",
          "name": "stdout",
          "text": [
            "Mounted at /content/drive\n"
          ]
        }
      ]
    },
    {
      "cell_type": "code",
      "metadata": {
        "id": "Ugw8j2LWD737"
      },
      "source": [
        "import numpy as np\n",
        "import copy\n",
        "import matplotlib.pyplot as plt\n",
        "from sklearn.preprocessing import MinMaxScaler\n",
        "from sklearn.ensemble import GradientBoostingRegressor\n",
        "from sklearn.model_selection import train_test_split, GridSearchCV\n",
        "from sklearn.linear_model import Ridge, Lasso, LinearRegression\n",
        "from sklearn.tree import DecisionTreeRegressor  \n",
        "from sklearn.model_selection import KFold, cross_val_score\n",
        "from sklearn.metrics import r2_score, accuracy_score, mean_squared_error\n",
        "from sklearn.neighbors import KNeighborsRegressor\n",
        "from sklearn.ensemble import RandomForestRegressor\n",
        "from sklearn.svm import SVR\n",
        "import seaborn as sns\n",
        "import warnings\n",
        "import pandas as pd\n",
        "%matplotlib inline\n",
        "warnings.filterwarnings('ignore')"
      ],
      "execution_count": null,
      "outputs": []
    },
    {
      "cell_type": "code",
      "metadata": {
        "id": "oQLsL8OqD7r5"
      },
      "source": [
        "plt.style.use('bmh')"
      ],
      "execution_count": null,
      "outputs": []
    },
    {
      "cell_type": "code",
      "metadata": {
        "colab": {
          "base_uri": "https://localhost:8080/",
          "height": 313
        },
        "id": "e_0ZPR9SDlaQ",
        "outputId": "88ce1038-0fb0-46ec-e125-de64f7a988e4"
      },
      "source": [
        "data=pd.read_csv(\"/content/drive/MyDrive/Football.csv\")\n",
        "data.head()"
      ],
      "execution_count": null,
      "outputs": [
        {
          "output_type": "execute_result",
          "data": {
            "text/html": [
              "<div>\n",
              "<style scoped>\n",
              "    .dataframe tbody tr th:only-of-type {\n",
              "        vertical-align: middle;\n",
              "    }\n",
              "\n",
              "    .dataframe tbody tr th {\n",
              "        vertical-align: top;\n",
              "    }\n",
              "\n",
              "    .dataframe thead th {\n",
              "        text-align: right;\n",
              "    }\n",
              "</style>\n",
              "<table border=\"1\" class=\"dataframe\">\n",
              "  <thead>\n",
              "    <tr style=\"text-align: right;\">\n",
              "      <th></th>\n",
              "      <th>name</th>\n",
              "      <th>club</th>\n",
              "      <th>age</th>\n",
              "      <th>position</th>\n",
              "      <th>position_cat</th>\n",
              "      <th>market_value</th>\n",
              "      <th>page_views</th>\n",
              "      <th>fpl_value</th>\n",
              "      <th>fpl_sel</th>\n",
              "      <th>fpl_points</th>\n",
              "      <th>region</th>\n",
              "      <th>nationality</th>\n",
              "      <th>new_foreign</th>\n",
              "      <th>age_cat</th>\n",
              "      <th>club_id</th>\n",
              "      <th>big_club</th>\n",
              "      <th>new_signing</th>\n",
              "    </tr>\n",
              "  </thead>\n",
              "  <tbody>\n",
              "    <tr>\n",
              "      <th>0</th>\n",
              "      <td>Alexis Sanchez</td>\n",
              "      <td>Arsenal</td>\n",
              "      <td>28</td>\n",
              "      <td>LW</td>\n",
              "      <td>1</td>\n",
              "      <td>65.0</td>\n",
              "      <td>4329</td>\n",
              "      <td>12.0</td>\n",
              "      <td>17.10%</td>\n",
              "      <td>264</td>\n",
              "      <td>3.0</td>\n",
              "      <td>Chile</td>\n",
              "      <td>0</td>\n",
              "      <td>4</td>\n",
              "      <td>1</td>\n",
              "      <td>1</td>\n",
              "      <td>0</td>\n",
              "    </tr>\n",
              "    <tr>\n",
              "      <th>1</th>\n",
              "      <td>Mesut Ozil</td>\n",
              "      <td>Arsenal</td>\n",
              "      <td>28</td>\n",
              "      <td>AM</td>\n",
              "      <td>1</td>\n",
              "      <td>50.0</td>\n",
              "      <td>4395</td>\n",
              "      <td>9.5</td>\n",
              "      <td>5.60%</td>\n",
              "      <td>167</td>\n",
              "      <td>2.0</td>\n",
              "      <td>Germany</td>\n",
              "      <td>0</td>\n",
              "      <td>4</td>\n",
              "      <td>1</td>\n",
              "      <td>1</td>\n",
              "      <td>0</td>\n",
              "    </tr>\n",
              "    <tr>\n",
              "      <th>2</th>\n",
              "      <td>Petr Cech</td>\n",
              "      <td>Arsenal</td>\n",
              "      <td>35</td>\n",
              "      <td>GK</td>\n",
              "      <td>4</td>\n",
              "      <td>7.0</td>\n",
              "      <td>1529</td>\n",
              "      <td>5.5</td>\n",
              "      <td>5.90%</td>\n",
              "      <td>134</td>\n",
              "      <td>2.0</td>\n",
              "      <td>Czech Republic</td>\n",
              "      <td>0</td>\n",
              "      <td>6</td>\n",
              "      <td>1</td>\n",
              "      <td>1</td>\n",
              "      <td>0</td>\n",
              "    </tr>\n",
              "    <tr>\n",
              "      <th>3</th>\n",
              "      <td>Theo Walcott</td>\n",
              "      <td>Arsenal</td>\n",
              "      <td>28</td>\n",
              "      <td>RW</td>\n",
              "      <td>1</td>\n",
              "      <td>20.0</td>\n",
              "      <td>2393</td>\n",
              "      <td>7.5</td>\n",
              "      <td>1.50%</td>\n",
              "      <td>122</td>\n",
              "      <td>1.0</td>\n",
              "      <td>England</td>\n",
              "      <td>0</td>\n",
              "      <td>4</td>\n",
              "      <td>1</td>\n",
              "      <td>1</td>\n",
              "      <td>0</td>\n",
              "    </tr>\n",
              "    <tr>\n",
              "      <th>4</th>\n",
              "      <td>Laurent Koscielny</td>\n",
              "      <td>Arsenal</td>\n",
              "      <td>31</td>\n",
              "      <td>CB</td>\n",
              "      <td>3</td>\n",
              "      <td>22.0</td>\n",
              "      <td>912</td>\n",
              "      <td>6.0</td>\n",
              "      <td>0.70%</td>\n",
              "      <td>121</td>\n",
              "      <td>2.0</td>\n",
              "      <td>France</td>\n",
              "      <td>0</td>\n",
              "      <td>4</td>\n",
              "      <td>1</td>\n",
              "      <td>1</td>\n",
              "      <td>0</td>\n",
              "    </tr>\n",
              "  </tbody>\n",
              "</table>\n",
              "</div>"
            ],
            "text/plain": [
              "                name     club  age  ... club_id  big_club  new_signing\n",
              "0     Alexis Sanchez  Arsenal   28  ...       1         1            0\n",
              "1         Mesut Ozil  Arsenal   28  ...       1         1            0\n",
              "2          Petr Cech  Arsenal   35  ...       1         1            0\n",
              "3       Theo Walcott  Arsenal   28  ...       1         1            0\n",
              "4  Laurent Koscielny  Arsenal   31  ...       1         1            0\n",
              "\n",
              "[5 rows x 17 columns]"
            ]
          },
          "metadata": {},
          "execution_count": 4
        }
      ]
    },
    {
      "cell_type": "code",
      "metadata": {
        "colab": {
          "base_uri": "https://localhost:8080/"
        },
        "id": "m2wi6qXDFfzl",
        "outputId": "26e35643-19b9-42ae-a7af-6cf8cd2b0cc2"
      },
      "source": [
        "data.isnull().sum()"
      ],
      "execution_count": null,
      "outputs": [
        {
          "output_type": "execute_result",
          "data": {
            "text/plain": [
              "name            0\n",
              "club            0\n",
              "age             0\n",
              "position        0\n",
              "position_cat    0\n",
              "market_value    0\n",
              "page_views      0\n",
              "fpl_value       0\n",
              "fpl_sel         0\n",
              "fpl_points      0\n",
              "region          1\n",
              "nationality     0\n",
              "new_foreign     0\n",
              "age_cat         0\n",
              "club_id         0\n",
              "big_club        0\n",
              "new_signing     0\n",
              "dtype: int64"
            ]
          },
          "metadata": {},
          "execution_count": 5
        }
      ]
    },
    {
      "cell_type": "code",
      "metadata": {
        "colab": {
          "base_uri": "https://localhost:8080/"
        },
        "id": "t-b2UXRiDleC",
        "outputId": "8f4ce1c7-0b32-4f60-cace-d49eb68b1cdd"
      },
      "source": [
        "data['region'].value_counts()[:].index.tolist()\n"
      ],
      "execution_count": null,
      "outputs": [
        {
          "output_type": "execute_result",
          "data": {
            "text/plain": [
              "[2.0, 1.0, 4.0, 3.0]"
            ]
          },
          "metadata": {},
          "execution_count": 6
        }
      ]
    },
    {
      "cell_type": "code",
      "metadata": {
        "colab": {
          "base_uri": "https://localhost:8080/"
        },
        "id": "tBzoQaRFDlga",
        "outputId": "05848a36-5094-46db-cfe9-124f1834316e"
      },
      "source": [
        "data['region'].mode()"
      ],
      "execution_count": null,
      "outputs": [
        {
          "output_type": "execute_result",
          "data": {
            "text/plain": [
              "0    2.0\n",
              "dtype: float64"
            ]
          },
          "metadata": {},
          "execution_count": 7
        }
      ]
    },
    {
      "cell_type": "code",
      "metadata": {
        "id": "aX764kU2Dlix"
      },
      "source": [
        "# replacing null values with mode\n",
        "data['region'] = data['region'].fillna(2.0)"
      ],
      "execution_count": null,
      "outputs": []
    },
    {
      "cell_type": "code",
      "metadata": {
        "colab": {
          "base_uri": "https://localhost:8080/",
          "height": 313
        },
        "id": "UIbXgNHEDlle",
        "outputId": "91017373-d47b-43a4-b4e7-23e4cacc2724"
      },
      "source": [
        "data.head()"
      ],
      "execution_count": null,
      "outputs": [
        {
          "output_type": "execute_result",
          "data": {
            "text/html": [
              "<div>\n",
              "<style scoped>\n",
              "    .dataframe tbody tr th:only-of-type {\n",
              "        vertical-align: middle;\n",
              "    }\n",
              "\n",
              "    .dataframe tbody tr th {\n",
              "        vertical-align: top;\n",
              "    }\n",
              "\n",
              "    .dataframe thead th {\n",
              "        text-align: right;\n",
              "    }\n",
              "</style>\n",
              "<table border=\"1\" class=\"dataframe\">\n",
              "  <thead>\n",
              "    <tr style=\"text-align: right;\">\n",
              "      <th></th>\n",
              "      <th>name</th>\n",
              "      <th>club</th>\n",
              "      <th>age</th>\n",
              "      <th>position</th>\n",
              "      <th>position_cat</th>\n",
              "      <th>market_value</th>\n",
              "      <th>page_views</th>\n",
              "      <th>fpl_value</th>\n",
              "      <th>fpl_sel</th>\n",
              "      <th>fpl_points</th>\n",
              "      <th>region</th>\n",
              "      <th>nationality</th>\n",
              "      <th>new_foreign</th>\n",
              "      <th>age_cat</th>\n",
              "      <th>club_id</th>\n",
              "      <th>big_club</th>\n",
              "      <th>new_signing</th>\n",
              "    </tr>\n",
              "  </thead>\n",
              "  <tbody>\n",
              "    <tr>\n",
              "      <th>0</th>\n",
              "      <td>Alexis Sanchez</td>\n",
              "      <td>Arsenal</td>\n",
              "      <td>28</td>\n",
              "      <td>LW</td>\n",
              "      <td>1</td>\n",
              "      <td>65.0</td>\n",
              "      <td>4329</td>\n",
              "      <td>12.0</td>\n",
              "      <td>17.10%</td>\n",
              "      <td>264</td>\n",
              "      <td>3.0</td>\n",
              "      <td>Chile</td>\n",
              "      <td>0</td>\n",
              "      <td>4</td>\n",
              "      <td>1</td>\n",
              "      <td>1</td>\n",
              "      <td>0</td>\n",
              "    </tr>\n",
              "    <tr>\n",
              "      <th>1</th>\n",
              "      <td>Mesut Ozil</td>\n",
              "      <td>Arsenal</td>\n",
              "      <td>28</td>\n",
              "      <td>AM</td>\n",
              "      <td>1</td>\n",
              "      <td>50.0</td>\n",
              "      <td>4395</td>\n",
              "      <td>9.5</td>\n",
              "      <td>5.60%</td>\n",
              "      <td>167</td>\n",
              "      <td>2.0</td>\n",
              "      <td>Germany</td>\n",
              "      <td>0</td>\n",
              "      <td>4</td>\n",
              "      <td>1</td>\n",
              "      <td>1</td>\n",
              "      <td>0</td>\n",
              "    </tr>\n",
              "    <tr>\n",
              "      <th>2</th>\n",
              "      <td>Petr Cech</td>\n",
              "      <td>Arsenal</td>\n",
              "      <td>35</td>\n",
              "      <td>GK</td>\n",
              "      <td>4</td>\n",
              "      <td>7.0</td>\n",
              "      <td>1529</td>\n",
              "      <td>5.5</td>\n",
              "      <td>5.90%</td>\n",
              "      <td>134</td>\n",
              "      <td>2.0</td>\n",
              "      <td>Czech Republic</td>\n",
              "      <td>0</td>\n",
              "      <td>6</td>\n",
              "      <td>1</td>\n",
              "      <td>1</td>\n",
              "      <td>0</td>\n",
              "    </tr>\n",
              "    <tr>\n",
              "      <th>3</th>\n",
              "      <td>Theo Walcott</td>\n",
              "      <td>Arsenal</td>\n",
              "      <td>28</td>\n",
              "      <td>RW</td>\n",
              "      <td>1</td>\n",
              "      <td>20.0</td>\n",
              "      <td>2393</td>\n",
              "      <td>7.5</td>\n",
              "      <td>1.50%</td>\n",
              "      <td>122</td>\n",
              "      <td>1.0</td>\n",
              "      <td>England</td>\n",
              "      <td>0</td>\n",
              "      <td>4</td>\n",
              "      <td>1</td>\n",
              "      <td>1</td>\n",
              "      <td>0</td>\n",
              "    </tr>\n",
              "    <tr>\n",
              "      <th>4</th>\n",
              "      <td>Laurent Koscielny</td>\n",
              "      <td>Arsenal</td>\n",
              "      <td>31</td>\n",
              "      <td>CB</td>\n",
              "      <td>3</td>\n",
              "      <td>22.0</td>\n",
              "      <td>912</td>\n",
              "      <td>6.0</td>\n",
              "      <td>0.70%</td>\n",
              "      <td>121</td>\n",
              "      <td>2.0</td>\n",
              "      <td>France</td>\n",
              "      <td>0</td>\n",
              "      <td>4</td>\n",
              "      <td>1</td>\n",
              "      <td>1</td>\n",
              "      <td>0</td>\n",
              "    </tr>\n",
              "  </tbody>\n",
              "</table>\n",
              "</div>"
            ],
            "text/plain": [
              "                name     club  age  ... club_id  big_club  new_signing\n",
              "0     Alexis Sanchez  Arsenal   28  ...       1         1            0\n",
              "1         Mesut Ozil  Arsenal   28  ...       1         1            0\n",
              "2          Petr Cech  Arsenal   35  ...       1         1            0\n",
              "3       Theo Walcott  Arsenal   28  ...       1         1            0\n",
              "4  Laurent Koscielny  Arsenal   31  ...       1         1            0\n",
              "\n",
              "[5 rows x 17 columns]"
            ]
          },
          "metadata": {},
          "execution_count": 9
        }
      ]
    },
    {
      "cell_type": "code",
      "metadata": {
        "colab": {
          "base_uri": "https://localhost:8080/"
        },
        "id": "DKtSHBMhDlo0",
        "outputId": "db19631f-9ee5-4c3d-fabd-c8458bfd13e8"
      },
      "source": [
        "data.isnull().sum()"
      ],
      "execution_count": null,
      "outputs": [
        {
          "output_type": "execute_result",
          "data": {
            "text/plain": [
              "name            0\n",
              "club            0\n",
              "age             0\n",
              "position        0\n",
              "position_cat    0\n",
              "market_value    0\n",
              "page_views      0\n",
              "fpl_value       0\n",
              "fpl_sel         0\n",
              "fpl_points      0\n",
              "region          0\n",
              "nationality     0\n",
              "new_foreign     0\n",
              "age_cat         0\n",
              "club_id         0\n",
              "big_club        0\n",
              "new_signing     0\n",
              "dtype: int64"
            ]
          },
          "metadata": {},
          "execution_count": 10
        }
      ]
    },
    {
      "cell_type": "code",
      "metadata": {
        "colab": {
          "base_uri": "https://localhost:8080/"
        },
        "id": "TZq_G_pUH2us",
        "outputId": "3aa4e5d0-40d8-4f88-f117-c0c0a2244931"
      },
      "source": [
        "data.skew()"
      ],
      "execution_count": null,
      "outputs": [
        {
          "output_type": "execute_result",
          "data": {
            "text/plain": [
              "age             0.135533\n",
              "position_cat    0.182976\n",
              "market_value    2.162548\n",
              "page_views      3.244946\n",
              "fpl_value       2.136684\n",
              "fpl_points      0.825879\n",
              "region          0.850956\n",
              "new_foreign     5.100749\n",
              "age_cat         0.172058\n",
              "club_id         0.015017\n",
              "big_club        0.856601\n",
              "new_signing     2.019198\n",
              "dtype: float64"
            ]
          },
          "metadata": {},
          "execution_count": 11
        }
      ]
    },
    {
      "cell_type": "code",
      "metadata": {
        "id": "ezJ7Gat5Dlr4"
      },
      "source": [
        "class DataPreprocessing:\n",
        "    def __init__(self,data):\n",
        "        \n",
        "        self.data = data\n",
        "        self.cols_to_be_dropped = ['name','club_id','age_cat','nationality']\n",
        "        self.cols_to_be_encoded = ['club','position','position_cat','region']\n",
        "        \n",
        "    def addPosCat(self,inputCat):\n",
        "\n",
        "        if inputCat == 1:\n",
        "            return('Attackers')\n",
        "        elif inputCat == 2:\n",
        "            return('Midfielders')\n",
        "        elif inputCat == 3:\n",
        "            return('Defenders')\n",
        "        else:\n",
        "            return('Goalkeeper')\n",
        "        \n",
        "    def addRegion(self, inpregion):\n",
        "    \n",
        "        if inpregion == 1:\n",
        "            return('England')\n",
        "        elif inpregion == 2:\n",
        "            return('EU')\n",
        "        elif inpregion == 3:\n",
        "            return('Americans')\n",
        "        else:\n",
        "            return('Rest of World')\n",
        "        \n",
        "    def columnTypeConversion(self):\n",
        "        \n",
        "        # Converting fpl selection into numeric variable \n",
        "        self.data['fpl_sel'] = self.data['fpl_sel'].map(lambda x: str(x)[:-1]).astype('float')\n",
        "        \n",
        "    def logTransformation(self):\n",
        "        \n",
        "        # log transformation on page views variable as it has a high skew\n",
        "        self.data['page_views'] = self.data['page_views'].apply(np.log)\n",
        "        \n",
        "    # Encoding the categorical variables using pandas dummies \n",
        "    def dataEncoding(self):\n",
        "\n",
        "        self.data = pd.get_dummies(self.data, columns = self.cols_to_be_encoded, drop_first = True)\n",
        "        \n",
        "    def getProcessedData(self):\n",
        "        self.data = self.data.drop(self.cols_to_be_dropped, inplace = False, axis = 1)\n",
        "        self.data['position_cat'] = self.data['position_cat'].apply(self.addPosCat)\n",
        "        self.data['region'] = self.data['region'].apply(self.addRegion)\n",
        "        self.columnTypeConversion()\n",
        "        self.dataEncoding()\n",
        "        self.logTransformation()\n",
        "        return self.data"
      ],
      "execution_count": null,
      "outputs": []
    },
    {
      "cell_type": "code",
      "metadata": {
        "id": "bpvlm0hwDlvB"
      },
      "source": [
        "data_obj = DataPreprocessing(data) \n",
        "encoded_data = data_obj.getProcessedData()"
      ],
      "execution_count": null,
      "outputs": []
    },
    {
      "cell_type": "code",
      "metadata": {
        "colab": {
          "base_uri": "https://localhost:8080/",
          "height": 243
        },
        "id": "jG0Le6ekDlx8",
        "outputId": "9ae52f39-6e95-42db-cf1a-b62369038878"
      },
      "source": [
        "encoded_data.head()\n"
      ],
      "execution_count": null,
      "outputs": [
        {
          "output_type": "execute_result",
          "data": {
            "text/html": [
              "<div>\n",
              "<style scoped>\n",
              "    .dataframe tbody tr th:only-of-type {\n",
              "        vertical-align: middle;\n",
              "    }\n",
              "\n",
              "    .dataframe tbody tr th {\n",
              "        vertical-align: top;\n",
              "    }\n",
              "\n",
              "    .dataframe thead th {\n",
              "        text-align: right;\n",
              "    }\n",
              "</style>\n",
              "<table border=\"1\" class=\"dataframe\">\n",
              "  <thead>\n",
              "    <tr style=\"text-align: right;\">\n",
              "      <th></th>\n",
              "      <th>age</th>\n",
              "      <th>market_value</th>\n",
              "      <th>page_views</th>\n",
              "      <th>fpl_value</th>\n",
              "      <th>fpl_sel</th>\n",
              "      <th>fpl_points</th>\n",
              "      <th>new_foreign</th>\n",
              "      <th>big_club</th>\n",
              "      <th>new_signing</th>\n",
              "      <th>club_Bournemouth</th>\n",
              "      <th>club_Brighton+and+Hove</th>\n",
              "      <th>club_Burnley</th>\n",
              "      <th>club_Chelsea</th>\n",
              "      <th>club_Crystal+Palace</th>\n",
              "      <th>club_Everton</th>\n",
              "      <th>club_Huddersfield</th>\n",
              "      <th>club_Leicester+City</th>\n",
              "      <th>club_Liverpool</th>\n",
              "      <th>club_Manchester+City</th>\n",
              "      <th>club_Manchester+United</th>\n",
              "      <th>club_Newcastle+United</th>\n",
              "      <th>club_Southampton</th>\n",
              "      <th>club_Stoke+City</th>\n",
              "      <th>club_Swansea</th>\n",
              "      <th>club_Tottenham</th>\n",
              "      <th>club_Watford</th>\n",
              "      <th>club_West+Brom</th>\n",
              "      <th>club_West+Ham</th>\n",
              "      <th>position_CB</th>\n",
              "      <th>position_CF</th>\n",
              "      <th>position_CM</th>\n",
              "      <th>position_DM</th>\n",
              "      <th>position_GK</th>\n",
              "      <th>position_LB</th>\n",
              "      <th>position_LM</th>\n",
              "      <th>position_LW</th>\n",
              "      <th>position_RB</th>\n",
              "      <th>position_RM</th>\n",
              "      <th>position_RW</th>\n",
              "      <th>position_SS</th>\n",
              "      <th>position_cat_Defenders</th>\n",
              "      <th>position_cat_Goalkeeper</th>\n",
              "      <th>position_cat_Midfielders</th>\n",
              "      <th>region_EU</th>\n",
              "      <th>region_England</th>\n",
              "      <th>region_Rest of World</th>\n",
              "    </tr>\n",
              "  </thead>\n",
              "  <tbody>\n",
              "    <tr>\n",
              "      <th>0</th>\n",
              "      <td>28</td>\n",
              "      <td>65.0</td>\n",
              "      <td>8.373092</td>\n",
              "      <td>12.0</td>\n",
              "      <td>17.1</td>\n",
              "      <td>264</td>\n",
              "      <td>0</td>\n",
              "      <td>1</td>\n",
              "      <td>0</td>\n",
              "      <td>0</td>\n",
              "      <td>0</td>\n",
              "      <td>0</td>\n",
              "      <td>0</td>\n",
              "      <td>0</td>\n",
              "      <td>0</td>\n",
              "      <td>0</td>\n",
              "      <td>0</td>\n",
              "      <td>0</td>\n",
              "      <td>0</td>\n",
              "      <td>0</td>\n",
              "      <td>0</td>\n",
              "      <td>0</td>\n",
              "      <td>0</td>\n",
              "      <td>0</td>\n",
              "      <td>0</td>\n",
              "      <td>0</td>\n",
              "      <td>0</td>\n",
              "      <td>0</td>\n",
              "      <td>0</td>\n",
              "      <td>0</td>\n",
              "      <td>0</td>\n",
              "      <td>0</td>\n",
              "      <td>0</td>\n",
              "      <td>0</td>\n",
              "      <td>0</td>\n",
              "      <td>1</td>\n",
              "      <td>0</td>\n",
              "      <td>0</td>\n",
              "      <td>0</td>\n",
              "      <td>0</td>\n",
              "      <td>0</td>\n",
              "      <td>0</td>\n",
              "      <td>0</td>\n",
              "      <td>0</td>\n",
              "      <td>0</td>\n",
              "      <td>0</td>\n",
              "    </tr>\n",
              "    <tr>\n",
              "      <th>1</th>\n",
              "      <td>28</td>\n",
              "      <td>50.0</td>\n",
              "      <td>8.388223</td>\n",
              "      <td>9.5</td>\n",
              "      <td>5.6</td>\n",
              "      <td>167</td>\n",
              "      <td>0</td>\n",
              "      <td>1</td>\n",
              "      <td>0</td>\n",
              "      <td>0</td>\n",
              "      <td>0</td>\n",
              "      <td>0</td>\n",
              "      <td>0</td>\n",
              "      <td>0</td>\n",
              "      <td>0</td>\n",
              "      <td>0</td>\n",
              "      <td>0</td>\n",
              "      <td>0</td>\n",
              "      <td>0</td>\n",
              "      <td>0</td>\n",
              "      <td>0</td>\n",
              "      <td>0</td>\n",
              "      <td>0</td>\n",
              "      <td>0</td>\n",
              "      <td>0</td>\n",
              "      <td>0</td>\n",
              "      <td>0</td>\n",
              "      <td>0</td>\n",
              "      <td>0</td>\n",
              "      <td>0</td>\n",
              "      <td>0</td>\n",
              "      <td>0</td>\n",
              "      <td>0</td>\n",
              "      <td>0</td>\n",
              "      <td>0</td>\n",
              "      <td>0</td>\n",
              "      <td>0</td>\n",
              "      <td>0</td>\n",
              "      <td>0</td>\n",
              "      <td>0</td>\n",
              "      <td>0</td>\n",
              "      <td>0</td>\n",
              "      <td>0</td>\n",
              "      <td>1</td>\n",
              "      <td>0</td>\n",
              "      <td>0</td>\n",
              "    </tr>\n",
              "    <tr>\n",
              "      <th>2</th>\n",
              "      <td>35</td>\n",
              "      <td>7.0</td>\n",
              "      <td>7.332369</td>\n",
              "      <td>5.5</td>\n",
              "      <td>5.9</td>\n",
              "      <td>134</td>\n",
              "      <td>0</td>\n",
              "      <td>1</td>\n",
              "      <td>0</td>\n",
              "      <td>0</td>\n",
              "      <td>0</td>\n",
              "      <td>0</td>\n",
              "      <td>0</td>\n",
              "      <td>0</td>\n",
              "      <td>0</td>\n",
              "      <td>0</td>\n",
              "      <td>0</td>\n",
              "      <td>0</td>\n",
              "      <td>0</td>\n",
              "      <td>0</td>\n",
              "      <td>0</td>\n",
              "      <td>0</td>\n",
              "      <td>0</td>\n",
              "      <td>0</td>\n",
              "      <td>0</td>\n",
              "      <td>0</td>\n",
              "      <td>0</td>\n",
              "      <td>0</td>\n",
              "      <td>0</td>\n",
              "      <td>0</td>\n",
              "      <td>0</td>\n",
              "      <td>0</td>\n",
              "      <td>1</td>\n",
              "      <td>0</td>\n",
              "      <td>0</td>\n",
              "      <td>0</td>\n",
              "      <td>0</td>\n",
              "      <td>0</td>\n",
              "      <td>0</td>\n",
              "      <td>0</td>\n",
              "      <td>0</td>\n",
              "      <td>1</td>\n",
              "      <td>0</td>\n",
              "      <td>1</td>\n",
              "      <td>0</td>\n",
              "      <td>0</td>\n",
              "    </tr>\n",
              "    <tr>\n",
              "      <th>3</th>\n",
              "      <td>28</td>\n",
              "      <td>20.0</td>\n",
              "      <td>7.780303</td>\n",
              "      <td>7.5</td>\n",
              "      <td>1.5</td>\n",
              "      <td>122</td>\n",
              "      <td>0</td>\n",
              "      <td>1</td>\n",
              "      <td>0</td>\n",
              "      <td>0</td>\n",
              "      <td>0</td>\n",
              "      <td>0</td>\n",
              "      <td>0</td>\n",
              "      <td>0</td>\n",
              "      <td>0</td>\n",
              "      <td>0</td>\n",
              "      <td>0</td>\n",
              "      <td>0</td>\n",
              "      <td>0</td>\n",
              "      <td>0</td>\n",
              "      <td>0</td>\n",
              "      <td>0</td>\n",
              "      <td>0</td>\n",
              "      <td>0</td>\n",
              "      <td>0</td>\n",
              "      <td>0</td>\n",
              "      <td>0</td>\n",
              "      <td>0</td>\n",
              "      <td>0</td>\n",
              "      <td>0</td>\n",
              "      <td>0</td>\n",
              "      <td>0</td>\n",
              "      <td>0</td>\n",
              "      <td>0</td>\n",
              "      <td>0</td>\n",
              "      <td>0</td>\n",
              "      <td>0</td>\n",
              "      <td>0</td>\n",
              "      <td>1</td>\n",
              "      <td>0</td>\n",
              "      <td>0</td>\n",
              "      <td>0</td>\n",
              "      <td>0</td>\n",
              "      <td>0</td>\n",
              "      <td>1</td>\n",
              "      <td>0</td>\n",
              "    </tr>\n",
              "    <tr>\n",
              "      <th>4</th>\n",
              "      <td>31</td>\n",
              "      <td>22.0</td>\n",
              "      <td>6.815640</td>\n",
              "      <td>6.0</td>\n",
              "      <td>0.7</td>\n",
              "      <td>121</td>\n",
              "      <td>0</td>\n",
              "      <td>1</td>\n",
              "      <td>0</td>\n",
              "      <td>0</td>\n",
              "      <td>0</td>\n",
              "      <td>0</td>\n",
              "      <td>0</td>\n",
              "      <td>0</td>\n",
              "      <td>0</td>\n",
              "      <td>0</td>\n",
              "      <td>0</td>\n",
              "      <td>0</td>\n",
              "      <td>0</td>\n",
              "      <td>0</td>\n",
              "      <td>0</td>\n",
              "      <td>0</td>\n",
              "      <td>0</td>\n",
              "      <td>0</td>\n",
              "      <td>0</td>\n",
              "      <td>0</td>\n",
              "      <td>0</td>\n",
              "      <td>0</td>\n",
              "      <td>1</td>\n",
              "      <td>0</td>\n",
              "      <td>0</td>\n",
              "      <td>0</td>\n",
              "      <td>0</td>\n",
              "      <td>0</td>\n",
              "      <td>0</td>\n",
              "      <td>0</td>\n",
              "      <td>0</td>\n",
              "      <td>0</td>\n",
              "      <td>0</td>\n",
              "      <td>0</td>\n",
              "      <td>1</td>\n",
              "      <td>0</td>\n",
              "      <td>0</td>\n",
              "      <td>1</td>\n",
              "      <td>0</td>\n",
              "      <td>0</td>\n",
              "    </tr>\n",
              "  </tbody>\n",
              "</table>\n",
              "</div>"
            ],
            "text/plain": [
              "   age  market_value  ...  region_England  region_Rest of World\n",
              "0   28          65.0  ...               0                     0\n",
              "1   28          50.0  ...               0                     0\n",
              "2   35           7.0  ...               0                     0\n",
              "3   28          20.0  ...               1                     0\n",
              "4   31          22.0  ...               0                     0\n",
              "\n",
              "[5 rows x 46 columns]"
            ]
          },
          "metadata": {},
          "execution_count": 14
        }
      ]
    },
    {
      "cell_type": "code",
      "metadata": {
        "id": "oExrMI8_Dnnp"
      },
      "source": [
        "output_var = 'market_value'\n",
        "X = encoded_data[encoded_data.columns[~encoded_data.columns.isin([output_var])]]\n",
        "y = encoded_data[[output_var]]\n",
        "x_train, x_test, y_train, y_test = train_test_split(X, y, test_size = 0.20)\n",
        "x_train = x_train.reset_index(drop = True)\n",
        "x_test = x_test.reset_index(drop = True)\n",
        "y_train = y_train.reset_index(drop = True)\n",
        "y_test = y_test.reset_index(drop = True)"
      ],
      "execution_count": null,
      "outputs": []
    },
    {
      "cell_type": "code",
      "metadata": {
        "colab": {
          "base_uri": "https://localhost:8080/"
        },
        "id": "XqAlI8qADn1F",
        "outputId": "52088917-f373-4d9b-aa92-77f1cff180e9"
      },
      "source": [
        "print(x_train.shape)\n",
        "print(x_test.shape)\n",
        "print(y_train.shape)\n",
        "print(y_test.shape)"
      ],
      "execution_count": null,
      "outputs": [
        {
          "output_type": "stream",
          "name": "stdout",
          "text": [
            "(368, 45)\n",
            "(93, 45)\n",
            "(368, 1)\n",
            "(93, 1)\n"
          ]
        }
      ]
    },
    {
      "cell_type": "code",
      "metadata": {
        "id": "Vw6nlM4gDosO"
      },
      "source": [
        "# min max scaling on input data\n",
        "scaler = MinMaxScaler()\n",
        "x_train = scaler.fit_transform(x_train)\n",
        "x_test = scaler.transform(x_test)"
      ],
      "execution_count": null,
      "outputs": []
    },
    {
      "cell_type": "code",
      "metadata": {
        "colab": {
          "base_uri": "https://localhost:8080/"
        },
        "id": "fufO6ALYDpBq",
        "outputId": "0cd19cbc-5a2f-4b22-c0ac-d81cf6157cf8"
      },
      "source": [
        "# Model 1 - Linear regression\n",
        "lin_model = LinearRegression()\n",
        "lin_model.fit(x_train, y_train)\n",
        "\n",
        "acc_train = lin_model.score(x_train, y_train)\n",
        "print(\"R^2 score of training data - \" + str(acc_train))\n",
        "\n",
        "train_pred = lin_model.predict(x_train) \n",
        "mse_train = mean_squared_error(y_train,train_pred)\n",
        "print(\"Root Mean Square Error on training data - \" + str(mse_train**(0.5)))\n"
      ],
      "execution_count": null,
      "outputs": [
        {
          "output_type": "stream",
          "name": "stdout",
          "text": [
            "R^2 score of training data - 0.8172603933502834\n",
            "Root Mean Square Error on training data - 5.095260545832383\n"
          ]
        }
      ]
    },
    {
      "cell_type": "code",
      "metadata": {
        "id": "NpQwflv0DqdF"
      },
      "source": [
        "def KFoldVerify(model, X, Y): # to calculte cross validated scros\n",
        "    cv = KFold(n_splits=5, random_state=1, shuffle=True)\n",
        "    r2_scores = cross_val_score(model, X, Y, cv= cv, scoring = 'r2')\n",
        "    return r2_scores.mean()"
      ],
      "execution_count": null,
      "outputs": []
    },
    {
      "cell_type": "code",
      "metadata": {
        "colab": {
          "base_uri": "https://localhost:8080/"
        },
        "id": "CA1ZCExaDqrU",
        "outputId": "4599c48e-3a9c-4991-9bff-f9fac8bc42ec"
      },
      "source": [
        "# Lasso Regressor\n",
        "lasso_model = Lasso(alpha=0.1, max_iter = 10000)\n",
        "cross_acc_train = KFoldVerify(lasso_model, x_train, y_train)\n",
        "lasso_model.fit(x_train, y_train)\n",
        "\n",
        "acc_train = lasso_model.score(x_train, y_train)\n",
        "print(\"Cross Validation score - \" + str(cross_acc_train))\n",
        "print()\n",
        "\n",
        "\n",
        "train_pred = lasso_model.predict(x_train)\n",
        "mse_train = mean_squared_error(y_train,train_pred)\n",
        "print(\"R^2 score of training data - \" + str(acc_train))\n",
        "print(\"Root Mean Square Error of training data - \" + str(mse_train**(0.5)))"
      ],
      "execution_count": null,
      "outputs": [
        {
          "output_type": "stream",
          "name": "stdout",
          "text": [
            "Cross Validation score - 0.746626802506825\n",
            "\n",
            "R^2 score of training data - 0.7836958413710473\n",
            "Root Mean Square Error of training data - 5.543480041517652\n"
          ]
        }
      ]
    },
    {
      "cell_type": "code",
      "metadata": {
        "colab": {
          "base_uri": "https://localhost:8080/"
        },
        "id": "-eRp5PnLNRiW",
        "outputId": "3be13642-d8be-47bf-febe-e37af910de7d"
      },
      "source": [
        "# Ridge Regressor\n",
        "ridge_model = Ridge(alpha=0.1,max_iter=10000)\n",
        "cross_acc_train = KFoldVerify(ridge_model, x_train, y_train)\n",
        "ridge_model.fit(x_train, y_train)\n",
        "\n",
        "acc_train = ridge_model.score(x_train, y_train)\n",
        "print(\"Cross Validation score - \" + str(cross_acc_train))\n",
        "print()\n",
        "\n",
        "\n",
        "train_pred = ridge_model.predict(x_train)\n",
        "mse_train = mean_squared_error(y_train,train_pred)\n",
        "print(\"R^2 score of training data - \" + str(acc_train))\n",
        "print(\"Root Mean Square Error of training data - \" + str(mse_train**(0.5)))"
      ],
      "execution_count": null,
      "outputs": [
        {
          "output_type": "stream",
          "name": "stdout",
          "text": [
            "Cross Validation score - 0.7567014620516431\n",
            "\n",
            "R^2 score of training data - 0.8171019143864364\n",
            "Root Mean Square Error of training data - 5.097469472048211\n"
          ]
        }
      ]
    },
    {
      "cell_type": "code",
      "metadata": {
        "colab": {
          "base_uri": "https://localhost:8080/"
        },
        "id": "gvuMFFjPNWje",
        "outputId": "b077f7c6-d3f3-4cd6-9607-d93ec08b3e81"
      },
      "source": [
        "# support vector regressor\n",
        "SVR_regr = SVR(C = 10000.0, epsilon=0.001, kernel='poly', degree=3)\n",
        "cross_acc_train = KFoldVerify(SVR_regr, x_train, y_train)\n",
        "SVR_regr.fit(x_train, y_train)\n",
        "\n",
        "acc_train = SVR_regr.score(x_train, y_train)\n",
        "print(\"Cross Validation score - \" + str(cross_acc_train))\n",
        "print()\n",
        "\n",
        "\n",
        "train_pred = SVR_regr.predict(x_train)\n",
        "mse_train = mean_squared_error(y_train,train_pred)\n",
        "print(\"R^2 score of training data - \" + str(acc_train))\n",
        "print(\"Root Mean Square Error of training data - \" + str(mse_train**(0.5)))"
      ],
      "execution_count": null,
      "outputs": [
        {
          "output_type": "stream",
          "name": "stdout",
          "text": [
            "Cross Validation score - 0.620658976891212\n",
            "\n",
            "R^2 score of training data - 0.9999964549292667\n",
            "Root Mean Square Error of training data - 0.022442048991431224\n"
          ]
        }
      ]
    },
    {
      "cell_type": "code",
      "metadata": {
        "colab": {
          "base_uri": "https://localhost:8080/"
        },
        "id": "YnMoOg63Nb7O",
        "outputId": "14357028-6f1f-4061-82f7-d094608d070f"
      },
      "source": [
        "# nearest neighbour regressor\n",
        "K_N_N = KNeighborsRegressor(n_neighbors=10, metric='minkowski')\n",
        "cross_acc_train = KFoldVerify(K_N_N, x_train, y_train)\n",
        "K_N_N.fit(x_train, y_train)\n",
        "\n",
        "acc_train = K_N_N.score(x_train, y_train)\n",
        "print(\"Cross Validation score - \" + str(cross_acc_train))\n",
        "print()\n",
        "\n",
        "\n",
        "train_pred = K_N_N.predict(x_train)\n",
        "mse_train = mean_squared_error(y_train,train_pred)\n",
        "print(\"R^2 score of training data - \" + str(acc_train))\n",
        "print(\"Root Mean Square Error of training data - \" + str(mse_train**(0.5)))"
      ],
      "execution_count": null,
      "outputs": [
        {
          "output_type": "stream",
          "name": "stdout",
          "text": [
            "Cross Validation score - 0.537057466897845\n",
            "\n",
            "R^2 score of training data - 0.6291092932116973\n",
            "Root Mean Square Error of training data - 7.258937037594476\n"
          ]
        }
      ]
    },
    {
      "cell_type": "code",
      "metadata": {
        "id": "dUu6ec3ENhae",
        "colab": {
          "base_uri": "https://localhost:8080/"
        },
        "outputId": "e8ffef58-a514-4c88-acb4-f8c2240294d1"
      },
      "source": [
        "# Decision Tree regressor\n",
        "tree_model = DecisionTreeRegressor(random_state = 0,max_depth=5)  \n",
        "cross_acc_train = KFoldVerify(tree_model, x_train, y_train)\n",
        "tree_model.fit(x_train, y_train)\n",
        "\n",
        "acc_train = tree_model.score(x_train, y_train)\n",
        "print(\"Cross Validation score - \" + str(cross_acc_train))\n",
        "print()\n",
        "\n",
        "\n",
        "train_pred = tree_model.predict(x_train)\n",
        "mse_train = mean_squared_error(y_train,train_pred)\n",
        "print(\"R^2 score of training data - \" + str(acc_train))\n",
        "print(\"Root Mean Square Error of training data - \" + str(mse_train**(0.5)))"
      ],
      "execution_count": null,
      "outputs": [
        {
          "output_type": "stream",
          "name": "stdout",
          "text": [
            "Cross Validation score - 0.6099762096232283\n",
            "\n",
            "R^2 score of training data - 0.893516841508411\n",
            "Root Mean Square Error of training data - 3.889470805272762\n"
          ]
        }
      ]
    },
    {
      "cell_type": "code",
      "metadata": {
        "colab": {
          "base_uri": "https://localhost:8080/"
        },
        "id": "OK5v83u1xJn1",
        "outputId": "75089b18-6834-4fd4-882f-50dbe9afc470"
      },
      "source": [
        "# fitting a random forest regressor\n",
        "Forest_regr = RandomForestRegressor(max_depth=5, random_state=0)\n",
        "cross_acc_train = KFoldVerify(Forest_regr, x_train, y_train)\n",
        "Forest_regr.fit(x_train, y_train)\n",
        "\n",
        "acc_train = Forest_regr.score(x_train, y_train)\n",
        "print(\"Cross Validation score - \" + str(cross_acc_train))\n",
        "print()\n",
        "\n",
        "\n",
        "train_pred = Forest_regr.predict(x_train)\n",
        "mse_train = mean_squared_error(y_train,train_pred)\n",
        "print(\"R^2 score of training data - \" + str(acc_train))\n",
        "print(\"Root Mean Square Error of training data - \" + str(mse_train**(0.5)))"
      ],
      "execution_count": null,
      "outputs": [
        {
          "output_type": "stream",
          "name": "stdout",
          "text": [
            "Cross Validation score - 0.7439402866530123\n",
            "\n",
            "R^2 score of training data - 0.908246408415248\n",
            "Root Mean Square Error of training data - 3.6104521223321555\n"
          ]
        }
      ]
    },
    {
      "cell_type": "code",
      "metadata": {
        "colab": {
          "base_uri": "https://localhost:8080/"
        },
        "id": "n1RjU_skxODD",
        "outputId": "736f05db-fc28-417b-c73d-a56a2011391d"
      },
      "source": [
        "#  gradient boosting regression\n",
        "params = {'n_estimators': 300,\n",
        "          'max_depth': 2,\n",
        "          'min_samples_split': 9,\n",
        "          'learning_rate': 0.1,\n",
        "          'loss': 'ls'}\n",
        "gbr_model = GradientBoostingRegressor(**params)\n",
        "cross_acc_train = KFoldVerify(gbr_model, x_train, y_train)\n",
        "gbr_model.fit(x_train, y_train)\n",
        "\n",
        "acc_train = gbr_model.score(x_train, y_train)\n",
        "print(\"Cross Validation score - \" + str(cross_acc_train))\n",
        "print()\n",
        "\n",
        "\n",
        "train_pred = gbr_model.predict(x_train)\n",
        "mse_train = mean_squared_error(y_train,train_pred)\n",
        "print(\"R^2 score of training data - \" + str(acc_train))\n",
        "print(\"Root Mean Square Error of training data - \" + str(mse_train**(0.5)))"
      ],
      "execution_count": null,
      "outputs": [
        {
          "output_type": "stream",
          "name": "stdout",
          "text": [
            "Cross Validation score - 0.800831114187246\n",
            "\n",
            "R^2 score of training data - 0.9655555772732047\n",
            "Root Mean Square Error of training data - 2.212124210711141\n"
          ]
        }
      ]
    },
    {
      "cell_type": "code",
      "metadata": {
        "id": "-ah8hLHpxSrU"
      },
      "source": [
        ""
      ],
      "execution_count": null,
      "outputs": []
    }
  ]
}